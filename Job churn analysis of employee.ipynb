{
 "cells": [
  {
   "cell_type": "markdown",
   "id": "33bbac90",
   "metadata": {},
   "source": [
    "# Job churn analysis\n",
    "\n",
    "This dataset is designed to understand the factors that lead a person to leave their current job for HR research too. By models that uses the current credentials, demographics, experience data you will predict the probability of a candidate to look for a new job or will work for the company, as well as interpreting affected factors on employee decision."
   ]
  },
  {
   "cell_type": "markdown",
   "id": "7948f80c",
   "metadata": {
    "papermill": {
     "duration": 0.012914,
     "end_time": "2023-10-09T19:04:52.972775",
     "exception": false,
     "start_time": "2023-10-09T19:04:52.959861",
     "status": "completed"
    },
    "tags": []
   },
   "source": [
    "#### Importing Libraries"
   ]
  },
  {
   "cell_type": "code",
   "execution_count": 1,
   "id": "2da9f9c6",
   "metadata": {
    "execution": {
     "iopub.execute_input": "2023-10-09T19:04:53.001696Z",
     "iopub.status.busy": "2023-10-09T19:04:53.000761Z",
     "iopub.status.idle": "2023-10-09T19:04:57.848130Z",
     "shell.execute_reply": "2023-10-09T19:04:57.846928Z"
    },
    "papermill": {
     "duration": 4.863805,
     "end_time": "2023-10-09T19:04:57.850732",
     "exception": false,
     "start_time": "2023-10-09T19:04:52.986927",
     "status": "completed"
    },
    "tags": []
   },
   "outputs": [],
   "source": [
    "import numpy as np\n",
    "import pandas as pd\n",
    "import matplotlib.pyplot as plt\n",
    "import seaborn as sns\n",
    "%matplotlib inline \n",
    "plt.style.use('fivethirtyeight')\n",
    "from scipy import stats\n",
    "from scipy.stats import rankdata, norm\n",
    "\n",
    "from sklearn.preprocessing import LabelEncoder, OneHotEncoder, StandardScaler, MinMaxScaler, RobustScaler\n",
    "from sklearn.model_selection import train_test_split, KFold, GroupKFold, GridSearchCV, StratifiedKFold\n",
    "from sklearn.discriminant_analysis import QuadraticDiscriminantAnalysis, LinearDiscriminantAnalysis\n",
    "\n",
    "\n",
    "from sklearn.linear_model import LogisticRegression, PassiveAggressiveClassifier, RidgeClassifier, OrthogonalMatchingPursuit\n",
    "from sklearn.svm import SVC, NuSVC, LinearSVC\n",
    "from sklearn.neighbors import KNeighborsClassifier\n",
    "from sklearn.metrics import *\n",
    "\n",
    "from sklearn.experimental import enable_iterative_imputer\n",
    "from sklearn.impute import SimpleImputer, IterativeImputer\n",
    "import time, os, warnings, random, string, re, gc, sys\n",
    "\n",
    "import category_encoders as ce\n",
    "\n",
    "import lightgbm as lgb\n",
    "import catboost as cb\n",
    "\n",
    "\n",
    "\n",
    "if not sys.warnoptions:\n",
    "    import warnings\n",
    "    warnings.simplefilter(\"ignore\")\n",
    "    \n",
    "from IPython.display import display\n",
    "pd.set_option('display.max_colwidth', 300)\n",
    "\n",
    "def set_seed(seed=4242):\n",
    "    random.seed(seed)\n",
    "    np.random.seed(seed)\n",
    "    os.environ['PYTHONHASHSEED'] = str(seed)\n",
    "set_seed()"
   ]
  },
  {
   "cell_type": "code",
   "execution_count": 2,
   "id": "809275c8",
   "metadata": {
    "execution": {
     "iopub.execute_input": "2023-10-09T19:04:57.876631Z",
     "iopub.status.busy": "2023-10-09T19:04:57.876293Z",
     "iopub.status.idle": "2023-10-09T19:04:58.007409Z",
     "shell.execute_reply": "2023-10-09T19:04:58.005919Z"
    },
    "papermill": {
     "duration": 0.146953,
     "end_time": "2023-10-09T19:04:58.010045",
     "exception": false,
     "start_time": "2023-10-09T19:04:57.863092",
     "status": "completed"
    },
    "tags": []
   },
   "outputs": [],
   "source": [
    "train = pd.read_csv('/Users/Aishwarya/Desktop/data scientist/aug_train.csv')\n",
    "test = pd.read_csv('/Users/Aishwarya/Desktop/data scientist/aug_test.csv')\n",
    "# answer = np.load('/kaggle/input/job-change-dataset-answer/jobchange_test_target_values.npy')"
   ]
  },
  {
   "cell_type": "code",
   "execution_count": 3,
   "id": "6b546e42",
   "metadata": {
    "execution": {
     "iopub.execute_input": "2023-10-09T19:04:58.041202Z",
     "iopub.status.busy": "2023-10-09T19:04:58.040097Z",
     "iopub.status.idle": "2023-10-09T19:04:58.068053Z",
     "shell.execute_reply": "2023-10-09T19:04:58.067285Z"
    },
    "papermill": {
     "duration": 0.044299,
     "end_time": "2023-10-09T19:04:58.070024",
     "exception": false,
     "start_time": "2023-10-09T19:04:58.025725",
     "status": "completed"
    },
    "tags": []
   },
   "outputs": [
    {
     "data": {
      "text/html": [
       "<div>\n",
       "<style scoped>\n",
       "    .dataframe tbody tr th:only-of-type {\n",
       "        vertical-align: middle;\n",
       "    }\n",
       "\n",
       "    .dataframe tbody tr th {\n",
       "        vertical-align: top;\n",
       "    }\n",
       "\n",
       "    .dataframe thead th {\n",
       "        text-align: right;\n",
       "    }\n",
       "</style>\n",
       "<table border=\"1\" class=\"dataframe\">\n",
       "  <thead>\n",
       "    <tr style=\"text-align: right;\">\n",
       "      <th></th>\n",
       "      <th>enrollee_id</th>\n",
       "      <th>city</th>\n",
       "      <th>city_development_index</th>\n",
       "      <th>gender</th>\n",
       "      <th>relevent_experience</th>\n",
       "      <th>enrolled_university</th>\n",
       "      <th>education_level</th>\n",
       "      <th>major_discipline</th>\n",
       "      <th>experience</th>\n",
       "      <th>company_size</th>\n",
       "      <th>company_type</th>\n",
       "      <th>last_new_job</th>\n",
       "      <th>training_hours</th>\n",
       "      <th>target</th>\n",
       "    </tr>\n",
       "  </thead>\n",
       "  <tbody>\n",
       "    <tr>\n",
       "      <th>0</th>\n",
       "      <td>8949</td>\n",
       "      <td>city_103</td>\n",
       "      <td>0.920</td>\n",
       "      <td>Male</td>\n",
       "      <td>Has relevent experience</td>\n",
       "      <td>no_enrollment</td>\n",
       "      <td>Graduate</td>\n",
       "      <td>STEM</td>\n",
       "      <td>&gt;20</td>\n",
       "      <td>NaN</td>\n",
       "      <td>NaN</td>\n",
       "      <td>1</td>\n",
       "      <td>36</td>\n",
       "      <td>1.0</td>\n",
       "    </tr>\n",
       "    <tr>\n",
       "      <th>1</th>\n",
       "      <td>29725</td>\n",
       "      <td>city_40</td>\n",
       "      <td>0.776</td>\n",
       "      <td>Male</td>\n",
       "      <td>No relevent experience</td>\n",
       "      <td>no_enrollment</td>\n",
       "      <td>Graduate</td>\n",
       "      <td>STEM</td>\n",
       "      <td>15</td>\n",
       "      <td>50-99</td>\n",
       "      <td>Pvt Ltd</td>\n",
       "      <td>&gt;4</td>\n",
       "      <td>47</td>\n",
       "      <td>0.0</td>\n",
       "    </tr>\n",
       "    <tr>\n",
       "      <th>2</th>\n",
       "      <td>11561</td>\n",
       "      <td>city_21</td>\n",
       "      <td>0.624</td>\n",
       "      <td>NaN</td>\n",
       "      <td>No relevent experience</td>\n",
       "      <td>Full time course</td>\n",
       "      <td>Graduate</td>\n",
       "      <td>STEM</td>\n",
       "      <td>5</td>\n",
       "      <td>NaN</td>\n",
       "      <td>NaN</td>\n",
       "      <td>never</td>\n",
       "      <td>83</td>\n",
       "      <td>0.0</td>\n",
       "    </tr>\n",
       "    <tr>\n",
       "      <th>3</th>\n",
       "      <td>33241</td>\n",
       "      <td>city_115</td>\n",
       "      <td>0.789</td>\n",
       "      <td>NaN</td>\n",
       "      <td>No relevent experience</td>\n",
       "      <td>NaN</td>\n",
       "      <td>Graduate</td>\n",
       "      <td>Business Degree</td>\n",
       "      <td>&lt;1</td>\n",
       "      <td>NaN</td>\n",
       "      <td>Pvt Ltd</td>\n",
       "      <td>never</td>\n",
       "      <td>52</td>\n",
       "      <td>1.0</td>\n",
       "    </tr>\n",
       "    <tr>\n",
       "      <th>4</th>\n",
       "      <td>666</td>\n",
       "      <td>city_162</td>\n",
       "      <td>0.767</td>\n",
       "      <td>Male</td>\n",
       "      <td>Has relevent experience</td>\n",
       "      <td>no_enrollment</td>\n",
       "      <td>Masters</td>\n",
       "      <td>STEM</td>\n",
       "      <td>&gt;20</td>\n",
       "      <td>50-99</td>\n",
       "      <td>Funded Startup</td>\n",
       "      <td>4</td>\n",
       "      <td>8</td>\n",
       "      <td>0.0</td>\n",
       "    </tr>\n",
       "  </tbody>\n",
       "</table>\n",
       "</div>"
      ],
      "text/plain": [
       "   enrollee_id      city  city_development_index gender  \\\n",
       "0         8949  city_103                   0.920   Male   \n",
       "1        29725   city_40                   0.776   Male   \n",
       "2        11561   city_21                   0.624    NaN   \n",
       "3        33241  city_115                   0.789    NaN   \n",
       "4          666  city_162                   0.767   Male   \n",
       "\n",
       "       relevent_experience enrolled_university education_level  \\\n",
       "0  Has relevent experience       no_enrollment        Graduate   \n",
       "1   No relevent experience       no_enrollment        Graduate   \n",
       "2   No relevent experience    Full time course        Graduate   \n",
       "3   No relevent experience                 NaN        Graduate   \n",
       "4  Has relevent experience       no_enrollment         Masters   \n",
       "\n",
       "  major_discipline experience company_size    company_type last_new_job  \\\n",
       "0             STEM        >20          NaN             NaN            1   \n",
       "1             STEM         15        50-99         Pvt Ltd           >4   \n",
       "2             STEM          5          NaN             NaN        never   \n",
       "3  Business Degree         <1          NaN         Pvt Ltd        never   \n",
       "4             STEM        >20        50-99  Funded Startup            4   \n",
       "\n",
       "   training_hours  target  \n",
       "0              36     1.0  \n",
       "1              47     0.0  \n",
       "2              83     0.0  \n",
       "3              52     1.0  \n",
       "4               8     0.0  "
      ]
     },
     "execution_count": 3,
     "metadata": {},
     "output_type": "execute_result"
    }
   ],
   "source": [
    "train.head()"
   ]
  },
  {
   "cell_type": "code",
   "execution_count": 4,
   "id": "c5ee0f10",
   "metadata": {
    "execution": {
     "iopub.execute_input": "2023-10-09T19:04:58.096914Z",
     "iopub.status.busy": "2023-10-09T19:04:58.096371Z",
     "iopub.status.idle": "2023-10-09T19:04:58.110366Z",
     "shell.execute_reply": "2023-10-09T19:04:58.109489Z"
    },
    "papermill": {
     "duration": 0.029994,
     "end_time": "2023-10-09T19:04:58.112477",
     "exception": false,
     "start_time": "2023-10-09T19:04:58.082483",
     "status": "completed"
    },
    "tags": []
   },
   "outputs": [
    {
     "data": {
      "text/html": [
       "<div>\n",
       "<style scoped>\n",
       "    .dataframe tbody tr th:only-of-type {\n",
       "        vertical-align: middle;\n",
       "    }\n",
       "\n",
       "    .dataframe tbody tr th {\n",
       "        vertical-align: top;\n",
       "    }\n",
       "\n",
       "    .dataframe thead th {\n",
       "        text-align: right;\n",
       "    }\n",
       "</style>\n",
       "<table border=\"1\" class=\"dataframe\">\n",
       "  <thead>\n",
       "    <tr style=\"text-align: right;\">\n",
       "      <th></th>\n",
       "      <th>enrollee_id</th>\n",
       "      <th>city</th>\n",
       "      <th>city_development_index</th>\n",
       "      <th>gender</th>\n",
       "      <th>relevent_experience</th>\n",
       "      <th>enrolled_university</th>\n",
       "      <th>education_level</th>\n",
       "      <th>major_discipline</th>\n",
       "      <th>experience</th>\n",
       "      <th>company_size</th>\n",
       "      <th>company_type</th>\n",
       "      <th>last_new_job</th>\n",
       "      <th>training_hours</th>\n",
       "    </tr>\n",
       "  </thead>\n",
       "  <tbody>\n",
       "    <tr>\n",
       "      <th>0</th>\n",
       "      <td>32403</td>\n",
       "      <td>city_41</td>\n",
       "      <td>0.827</td>\n",
       "      <td>Male</td>\n",
       "      <td>Has relevent experience</td>\n",
       "      <td>Full time course</td>\n",
       "      <td>Graduate</td>\n",
       "      <td>STEM</td>\n",
       "      <td>9</td>\n",
       "      <td>&lt;10</td>\n",
       "      <td>NaN</td>\n",
       "      <td>1</td>\n",
       "      <td>21</td>\n",
       "    </tr>\n",
       "    <tr>\n",
       "      <th>1</th>\n",
       "      <td>9858</td>\n",
       "      <td>city_103</td>\n",
       "      <td>0.920</td>\n",
       "      <td>Female</td>\n",
       "      <td>Has relevent experience</td>\n",
       "      <td>no_enrollment</td>\n",
       "      <td>Graduate</td>\n",
       "      <td>STEM</td>\n",
       "      <td>5</td>\n",
       "      <td>NaN</td>\n",
       "      <td>Pvt Ltd</td>\n",
       "      <td>1</td>\n",
       "      <td>98</td>\n",
       "    </tr>\n",
       "    <tr>\n",
       "      <th>2</th>\n",
       "      <td>31806</td>\n",
       "      <td>city_21</td>\n",
       "      <td>0.624</td>\n",
       "      <td>Male</td>\n",
       "      <td>No relevent experience</td>\n",
       "      <td>no_enrollment</td>\n",
       "      <td>High School</td>\n",
       "      <td>NaN</td>\n",
       "      <td>&lt;1</td>\n",
       "      <td>NaN</td>\n",
       "      <td>Pvt Ltd</td>\n",
       "      <td>never</td>\n",
       "      <td>15</td>\n",
       "    </tr>\n",
       "    <tr>\n",
       "      <th>3</th>\n",
       "      <td>27385</td>\n",
       "      <td>city_13</td>\n",
       "      <td>0.827</td>\n",
       "      <td>Male</td>\n",
       "      <td>Has relevent experience</td>\n",
       "      <td>no_enrollment</td>\n",
       "      <td>Masters</td>\n",
       "      <td>STEM</td>\n",
       "      <td>11</td>\n",
       "      <td>10/49</td>\n",
       "      <td>Pvt Ltd</td>\n",
       "      <td>1</td>\n",
       "      <td>39</td>\n",
       "    </tr>\n",
       "    <tr>\n",
       "      <th>4</th>\n",
       "      <td>27724</td>\n",
       "      <td>city_103</td>\n",
       "      <td>0.920</td>\n",
       "      <td>Male</td>\n",
       "      <td>Has relevent experience</td>\n",
       "      <td>no_enrollment</td>\n",
       "      <td>Graduate</td>\n",
       "      <td>STEM</td>\n",
       "      <td>&gt;20</td>\n",
       "      <td>10000+</td>\n",
       "      <td>Pvt Ltd</td>\n",
       "      <td>&gt;4</td>\n",
       "      <td>72</td>\n",
       "    </tr>\n",
       "  </tbody>\n",
       "</table>\n",
       "</div>"
      ],
      "text/plain": [
       "   enrollee_id      city  city_development_index  gender  \\\n",
       "0        32403   city_41                   0.827    Male   \n",
       "1         9858  city_103                   0.920  Female   \n",
       "2        31806   city_21                   0.624    Male   \n",
       "3        27385   city_13                   0.827    Male   \n",
       "4        27724  city_103                   0.920    Male   \n",
       "\n",
       "       relevent_experience enrolled_university education_level  \\\n",
       "0  Has relevent experience    Full time course        Graduate   \n",
       "1  Has relevent experience       no_enrollment        Graduate   \n",
       "2   No relevent experience       no_enrollment     High School   \n",
       "3  Has relevent experience       no_enrollment         Masters   \n",
       "4  Has relevent experience       no_enrollment        Graduate   \n",
       "\n",
       "  major_discipline experience company_size company_type last_new_job  \\\n",
       "0             STEM          9          <10          NaN            1   \n",
       "1             STEM          5          NaN      Pvt Ltd            1   \n",
       "2              NaN         <1          NaN      Pvt Ltd        never   \n",
       "3             STEM         11        10/49      Pvt Ltd            1   \n",
       "4             STEM        >20       10000+      Pvt Ltd           >4   \n",
       "\n",
       "   training_hours  \n",
       "0              21  \n",
       "1              98  \n",
       "2              15  \n",
       "3              39  \n",
       "4              72  "
      ]
     },
     "execution_count": 4,
     "metadata": {},
     "output_type": "execute_result"
    }
   ],
   "source": [
    "test.head()"
   ]
  },
  {
   "cell_type": "code",
   "execution_count": 6,
   "id": "af65b899",
   "metadata": {
    "execution": {
     "iopub.execute_input": "2023-10-09T19:04:58.176370Z",
     "iopub.status.busy": "2023-10-09T19:04:58.175960Z",
     "iopub.status.idle": "2023-10-09T19:04:58.181318Z",
     "shell.execute_reply": "2023-10-09T19:04:58.180312Z"
    },
    "papermill": {
     "duration": 0.022452,
     "end_time": "2023-10-09T19:04:58.183810",
     "exception": false,
     "start_time": "2023-10-09T19:04:58.161358",
     "status": "completed"
    },
    "tags": []
   },
   "outputs": [
    {
     "name": "stdout",
     "output_type": "stream",
     "text": [
      "(19158, 14) (2129, 13)\n"
     ]
    }
   ],
   "source": [
    "print(train.shape, test.shape)"
   ]
  },
  {
   "cell_type": "markdown",
   "id": "d4f9ec81",
   "metadata": {
    "papermill": {
     "duration": 0.012168,
     "end_time": "2023-10-09T19:04:58.209577",
     "exception": false,
     "start_time": "2023-10-09T19:04:58.197409",
     "status": "completed"
    },
    "tags": []
   },
   "source": [
    "# Data Inspection"
   ]
  },
  {
   "cell_type": "code",
   "execution_count": 7,
   "id": "7dc1f471",
   "metadata": {
    "execution": {
     "iopub.execute_input": "2023-10-09T19:04:58.236885Z",
     "iopub.status.busy": "2023-10-09T19:04:58.236555Z",
     "iopub.status.idle": "2023-10-09T19:04:58.271052Z",
     "shell.execute_reply": "2023-10-09T19:04:58.269660Z"
    },
    "papermill": {
     "duration": 0.05062,
     "end_time": "2023-10-09T19:04:58.273327",
     "exception": false,
     "start_time": "2023-10-09T19:04:58.222707",
     "status": "completed"
    },
    "tags": []
   },
   "outputs": [
    {
     "name": "stdout",
     "output_type": "stream",
     "text": [
      "<class 'pandas.core.frame.DataFrame'>\n",
      "RangeIndex: 19158 entries, 0 to 19157\n",
      "Data columns (total 14 columns):\n",
      " #   Column                  Non-Null Count  Dtype  \n",
      "---  ------                  --------------  -----  \n",
      " 0   enrollee_id             19158 non-null  int64  \n",
      " 1   city                    19158 non-null  object \n",
      " 2   city_development_index  19158 non-null  float64\n",
      " 3   gender                  14650 non-null  object \n",
      " 4   relevent_experience     19158 non-null  object \n",
      " 5   enrolled_university     18772 non-null  object \n",
      " 6   education_level         18698 non-null  object \n",
      " 7   major_discipline        16345 non-null  object \n",
      " 8   experience              19093 non-null  object \n",
      " 9   company_size            13220 non-null  object \n",
      " 10  company_type            13018 non-null  object \n",
      " 11  last_new_job            18735 non-null  object \n",
      " 12  training_hours          19158 non-null  int64  \n",
      " 13  target                  19158 non-null  float64\n",
      "dtypes: float64(2), int64(2), object(10)\n",
      "memory usage: 2.0+ MB\n"
     ]
    }
   ],
   "source": [
    "train.info()"
   ]
  },
  {
   "cell_type": "markdown",
   "id": "1aeb5b4b",
   "metadata": {
    "papermill": {
     "duration": 0.012924,
     "end_time": "2023-10-09T19:04:58.298886",
     "exception": false,
     "start_time": "2023-10-09T19:04:58.285962",
     "status": "completed"
    },
    "tags": []
   },
   "source": [
    "# Data Analysis"
   ]
  },
  {
   "cell_type": "code",
   "execution_count": 8,
   "id": "2ab2cfb5",
   "metadata": {
    "execution": {
     "iopub.execute_input": "2023-10-09T19:04:58.326505Z",
     "iopub.status.busy": "2023-10-09T19:04:58.326096Z",
     "iopub.status.idle": "2023-10-09T19:04:58.332922Z",
     "shell.execute_reply": "2023-10-09T19:04:58.331978Z"
    },
    "papermill": {
     "duration": 0.022473,
     "end_time": "2023-10-09T19:04:58.334750",
     "exception": false,
     "start_time": "2023-10-09T19:04:58.312277",
     "status": "completed"
    },
    "tags": []
   },
   "outputs": [
    {
     "data": {
      "text/plain": [
       "['city',\n",
       " 'gender',\n",
       " 'relevent_experience',\n",
       " 'enrolled_university',\n",
       " 'education_level',\n",
       " 'major_discipline',\n",
       " 'experience',\n",
       " 'company_size',\n",
       " 'company_type',\n",
       " 'last_new_job']"
      ]
     },
     "execution_count": 8,
     "metadata": {},
     "output_type": "execute_result"
    }
   ],
   "source": [
    "cats = [c for c in train.columns if train[c].dtypes == \"object\"]\n",
    "cats"
   ]
  },
  {
   "cell_type": "markdown",
   "id": "4953960d",
   "metadata": {
    "papermill": {
     "duration": 0.072882,
     "end_time": "2023-10-09T19:04:58.420227",
     "exception": false,
     "start_time": "2023-10-09T19:04:58.347345",
     "status": "completed"
    },
    "tags": []
   },
   "source": [
    "## Column Names"
   ]
  },
  {
   "cell_type": "code",
   "execution_count": 9,
   "id": "12f4bcf7",
   "metadata": {
    "execution": {
     "iopub.execute_input": "2023-10-09T19:04:58.448802Z",
     "iopub.status.busy": "2023-10-09T19:04:58.448404Z",
     "iopub.status.idle": "2023-10-09T19:04:58.455476Z",
     "shell.execute_reply": "2023-10-09T19:04:58.454270Z"
    },
    "papermill": {
     "duration": 0.024052,
     "end_time": "2023-10-09T19:04:58.457602",
     "exception": false,
     "start_time": "2023-10-09T19:04:58.433550",
     "status": "completed"
    },
    "tags": []
   },
   "outputs": [
    {
     "data": {
      "text/plain": [
       "Index(['enrollee_id', 'city', 'city_development_index', 'gender',\n",
       "       'relevent_experience', 'enrolled_university', 'education_level',\n",
       "       'major_discipline', 'experience', 'company_size', 'company_type',\n",
       "       'last_new_job', 'training_hours', 'target'],\n",
       "      dtype='object')"
      ]
     },
     "execution_count": 9,
     "metadata": {},
     "output_type": "execute_result"
    }
   ],
   "source": [
    "train.columns"
   ]
  },
  {
   "cell_type": "code",
   "execution_count": 10,
   "id": "5a38c46d",
   "metadata": {
    "execution": {
     "iopub.execute_input": "2023-10-09T19:04:58.485990Z",
     "iopub.status.busy": "2023-10-09T19:04:58.485652Z",
     "iopub.status.idle": "2023-10-09T19:04:58.492555Z",
     "shell.execute_reply": "2023-10-09T19:04:58.491382Z"
    },
    "papermill": {
     "duration": 0.02371,
     "end_time": "2023-10-09T19:04:58.494683",
     "exception": false,
     "start_time": "2023-10-09T19:04:58.470973",
     "status": "completed"
    },
    "tags": []
   },
   "outputs": [
    {
     "data": {
      "text/plain": [
       "Index(['enrollee_id', 'city', 'city_development_index', 'gender',\n",
       "       'relevent_experience', 'enrolled_university', 'education_level',\n",
       "       'major_discipline', 'experience', 'company_size', 'company_type',\n",
       "       'last_new_job', 'training_hours'],\n",
       "      dtype='object')"
      ]
     },
     "execution_count": 10,
     "metadata": {},
     "output_type": "execute_result"
    }
   ],
   "source": [
    "test.columns"
   ]
  },
  {
   "cell_type": "code",
   "execution_count": 11,
   "id": "5780acf8",
   "metadata": {
    "execution": {
     "iopub.execute_input": "2023-10-09T19:04:58.522909Z",
     "iopub.status.busy": "2023-10-09T19:04:58.522566Z",
     "iopub.status.idle": "2023-10-09T19:04:58.527248Z",
     "shell.execute_reply": "2023-10-09T19:04:58.526505Z"
    },
    "papermill": {
     "duration": 0.02141,
     "end_time": "2023-10-09T19:04:58.529332",
     "exception": false,
     "start_time": "2023-10-09T19:04:58.507922",
     "status": "completed"
    },
    "tags": []
   },
   "outputs": [],
   "source": [
    "train.columns = ['enrollee_id', 'city_nom', 'city_development_index', 'gender_nom',\n",
    "       'relevent_experience_nom', 'enrolled_university_nom', 'education_level_ord',\n",
    "       'major_discipline_nom', 'experience_ord', 'company_size_ord', 'company_type_nom',\n",
    "       'last_new_job_ord', 'training_hours', 'target']\n",
    "\n",
    "test.columns = ['enrollee_id', 'city_nom', 'city_development_index', 'gender_nom',\n",
    "       'relevent_experience_nom', 'enrolled_university_nom', 'education_level_ord',\n",
    "       'major_discipline_nom', 'experience_ord', 'company_size_ord', 'company_type_nom',\n",
    "       'last_new_job_ord', 'training_hours']"
   ]
  },
  {
   "cell_type": "markdown",
   "id": "b61c233b",
   "metadata": {
    "papermill": {
     "duration": 0.013103,
     "end_time": "2023-10-09T19:04:58.555795",
     "exception": false,
     "start_time": "2023-10-09T19:04:58.542692",
     "status": "completed"
    },
    "tags": []
   },
   "source": [
    "## Ordinals and Nominals"
   ]
  },
  {
   "cell_type": "code",
   "execution_count": 12,
   "id": "08c3d282",
   "metadata": {
    "execution": {
     "iopub.execute_input": "2023-10-09T19:04:58.585114Z",
     "iopub.status.busy": "2023-10-09T19:04:58.584478Z",
     "iopub.status.idle": "2023-10-09T19:04:58.588709Z",
     "shell.execute_reply": "2023-10-09T19:04:58.587872Z"
    },
    "papermill": {
     "duration": 0.020809,
     "end_time": "2023-10-09T19:04:58.590620",
     "exception": false,
     "start_time": "2023-10-09T19:04:58.569811",
     "status": "completed"
    },
    "tags": []
   },
   "outputs": [],
   "source": [
    "ordinals = [c for c in train.columns if 'ord' in c]\n",
    "nominals = [c for c in train.columns if 'nom' in c]"
   ]
  },
  {
   "cell_type": "code",
   "execution_count": 13,
   "id": "f2c1aa33",
   "metadata": {
    "execution": {
     "iopub.execute_input": "2023-10-09T19:04:58.618860Z",
     "iopub.status.busy": "2023-10-09T19:04:58.618510Z",
     "iopub.status.idle": "2023-10-09T19:04:58.624972Z",
     "shell.execute_reply": "2023-10-09T19:04:58.623867Z"
    },
    "papermill": {
     "duration": 0.023024,
     "end_time": "2023-10-09T19:04:58.627064",
     "exception": false,
     "start_time": "2023-10-09T19:04:58.604040",
     "status": "completed"
    },
    "tags": []
   },
   "outputs": [
    {
     "data": {
      "text/plain": [
       "['education_level_ord',\n",
       " 'experience_ord',\n",
       " 'company_size_ord',\n",
       " 'last_new_job_ord']"
      ]
     },
     "execution_count": 13,
     "metadata": {},
     "output_type": "execute_result"
    }
   ],
   "source": [
    "ordinals"
   ]
  },
  {
   "cell_type": "code",
   "execution_count": 14,
   "id": "5d4c154f",
   "metadata": {
    "execution": {
     "iopub.execute_input": "2023-10-09T19:04:58.655456Z",
     "iopub.status.busy": "2023-10-09T19:04:58.654933Z",
     "iopub.status.idle": "2023-10-09T19:04:58.660612Z",
     "shell.execute_reply": "2023-10-09T19:04:58.659797Z"
    },
    "papermill": {
     "duration": 0.02255,
     "end_time": "2023-10-09T19:04:58.662813",
     "exception": false,
     "start_time": "2023-10-09T19:04:58.640263",
     "status": "completed"
    },
    "tags": []
   },
   "outputs": [
    {
     "data": {
      "text/plain": [
       "['city_nom',\n",
       " 'gender_nom',\n",
       " 'relevent_experience_nom',\n",
       " 'enrolled_university_nom',\n",
       " 'major_discipline_nom',\n",
       " 'company_type_nom']"
      ]
     },
     "execution_count": 14,
     "metadata": {},
     "output_type": "execute_result"
    }
   ],
   "source": [
    "nominals"
   ]
  },
  {
   "cell_type": "markdown",
   "id": "99df4a01",
   "metadata": {
    "papermill": {
     "duration": 0.013047,
     "end_time": "2023-10-09T19:04:58.689447",
     "exception": false,
     "start_time": "2023-10-09T19:04:58.676400",
     "status": "completed"
    },
    "tags": []
   },
   "source": [
    "# Quick EDA"
   ]
  },
  {
   "cell_type": "code",
   "execution_count": 15,
   "id": "db77b799",
   "metadata": {
    "execution": {
     "iopub.execute_input": "2023-10-09T19:04:58.717808Z",
     "iopub.status.busy": "2023-10-09T19:04:58.717426Z",
     "iopub.status.idle": "2023-10-09T19:04:58.723888Z",
     "shell.execute_reply": "2023-10-09T19:04:58.722619Z"
    },
    "papermill": {
     "duration": 0.023299,
     "end_time": "2023-10-09T19:04:58.726080",
     "exception": false,
     "start_time": "2023-10-09T19:04:58.702781",
     "status": "completed"
    },
    "tags": []
   },
   "outputs": [],
   "source": [
    "tr_orig = train.copy()\n",
    "ts_orig = test.copy()"
   ]
  },
  {
   "cell_type": "markdown",
   "id": "6629606d",
   "metadata": {
    "papermill": {
     "duration": 0.013055,
     "end_time": "2023-10-09T19:04:58.752636",
     "exception": false,
     "start_time": "2023-10-09T19:04:58.739581",
     "status": "completed"
    },
    "tags": []
   },
   "source": [
    "# Numericals"
   ]
  },
  {
   "cell_type": "code",
   "execution_count": 16,
   "id": "a67dff7b",
   "metadata": {
    "execution": {
     "iopub.execute_input": "2023-10-09T19:04:58.782665Z",
     "iopub.status.busy": "2023-10-09T19:04:58.782290Z",
     "iopub.status.idle": "2023-10-09T19:05:00.436024Z",
     "shell.execute_reply": "2023-10-09T19:05:00.435194Z"
    },
    "papermill": {
     "duration": 1.67174,
     "end_time": "2023-10-09T19:05:00.438963",
     "exception": false,
     "start_time": "2023-10-09T19:04:58.767223",
     "status": "completed"
    },
    "tags": []
   },
   "outputs": [
    {
     "data": {
      "text/plain": [
       "Text(0.5, 1.0, 'Train Vs Test')"
      ]
     },
     "execution_count": 16,
     "metadata": {},
     "output_type": "execute_result"
    },
    {
     "data": {
      "image/png": "[encoded data removed]",
      "text/plain": [
       "<Figure size 2500x700 with 2 Axes>"
      ]
     },
     "metadata": {},
     "output_type": "display_data"
    }
   ],
   "source": [
    "fig, axs = plt.subplots(ncols=2, figsize=(25, 7))\n",
    "sns.distplot(train.city_development_index,bins=50,  fit=norm,kde=True,kde_kws={\"shade\": True}, norm_hist=True,  color='darkcyan', ax=axs[0])\n",
    "sns.distplot(train.training_hours,bins=50,  fit=norm,kde=True,kde_kws={\"shade\": True}, norm_hist=True,  color='darkcyan', ax=axs[1])\n",
    "axs[0].set_title('Train Vs Test')\n",
    "sns.distplot(test.city_development_index,bins=50,  fit=norm,kde=True,kde_kws={\"shade\": True}, norm_hist=True,  color='k', ax=axs[0])\n",
    "sns.distplot(test.training_hours,bins=50,  fit=norm,kde=True,kde_kws={\"shade\": True},norm_hist=True,  color='k', ax=axs[1])\n",
    "axs[1].set_title('Train Vs Test')"
   ]
  },
  {
   "cell_type": "code",
   "execution_count": 17,
   "id": "b47d8a35",
   "metadata": {
    "execution": {
     "iopub.execute_input": "2023-10-09T19:05:00.472050Z",
     "iopub.status.busy": "2023-10-09T19:05:00.471474Z",
     "iopub.status.idle": "2023-10-09T19:05:01.971068Z",
     "shell.execute_reply": "2023-10-09T19:05:01.970279Z"
    },
    "papermill": {
     "duration": 1.519403,
     "end_time": "2023-10-09T19:05:01.974250",
     "exception": false,
     "start_time": "2023-10-09T19:05:00.454847",
     "status": "completed"
    },
    "tags": []
   },
   "outputs": [
    {
     "data": {
      "image/png": "[encoded data removed]",
      "text/plain": [
       "<Figure size 2500x700 with 2 Axes>"
      ]
     },
     "metadata": {},
     "output_type": "display_data"
    }
   ],
   "source": [
    "fig, axs = plt.subplots(ncols=2, figsize=(25, 7))\n",
    "sns.distplot(train[train.target==1].city_development_index,bins=50,  fit=norm,kde=True,kde_kws={\"shade\": True}, norm_hist=True,  color='teal', ax=axs[0])\n",
    "sns.distplot(train[train.target==0].city_development_index,bins=50,  fit=norm,kde=True,kde_kws={\"shade\": True}, norm_hist=True,  color='darkred', ax=axs[0])\n",
    "axs[0].set_title('Distribution of target values')\n",
    "\n",
    "sns.distplot(train[train.target==1].training_hours,bins=50,  fit=norm,kde=True,kde_kws={\"shade\": True}, norm_hist=True,  color='teal', ax=axs[1])\n",
    "sns.distplot(train[train.target==0].training_hours,bins=50,  fit=norm,kde=True,kde_kws={\"shade\": True},norm_hist=True,  color='darkred', ax=axs[1])\n",
    "axs[1].set_title('Distribution of target values')\n",
    "plt.show()"
   ]
  },
  {
   "cell_type": "code",
   "execution_count": 18,
   "id": "8b1a9c46",
   "metadata": {
    "execution": {
     "iopub.execute_input": "2023-10-09T19:05:02.010825Z",
     "iopub.status.busy": "2023-10-09T19:05:02.010472Z",
     "iopub.status.idle": "2023-10-09T19:05:02.015932Z",
     "shell.execute_reply": "2023-10-09T19:05:02.014670Z"
    },
    "papermill": {
     "duration": 0.026742,
     "end_time": "2023-10-09T19:05:02.018141",
     "exception": false,
     "start_time": "2023-10-09T19:05:01.991399",
     "status": "completed"
    },
    "tags": []
   },
   "outputs": [],
   "source": [
    "del train[\"enrollee_id\"]\n",
    "del test[\"enrollee_id\"]"
   ]
  },
  {
   "cell_type": "markdown",
   "id": "7f6b0f99",
   "metadata": {
    "papermill": {
     "duration": 0.01708,
     "end_time": "2023-10-09T19:05:02.052881",
     "exception": false,
     "start_time": "2023-10-09T19:05:02.035801",
     "status": "completed"
    },
    "tags": []
   },
   "source": [
    "# Categoricals"
   ]
  },
  {
   "cell_type": "code",
   "execution_count": 19,
   "id": "bda631e0",
   "metadata": {
    "execution": {
     "iopub.execute_input": "2023-10-09T19:05:02.089280Z",
     "iopub.status.busy": "2023-10-09T19:05:02.087937Z",
     "iopub.status.idle": "2023-10-09T19:05:02.134999Z",
     "shell.execute_reply": "2023-10-09T19:05:02.133950Z"
    },
    "papermill": {
     "duration": 0.067399,
     "end_time": "2023-10-09T19:05:02.137297",
     "exception": false,
     "start_time": "2023-10-09T19:05:02.069898",
     "status": "completed"
    },
    "tags": []
   },
   "outputs": [
    {
     "data": {
      "text/html": [
       "<div>\n",
       "<style scoped>\n",
       "    .dataframe tbody tr th:only-of-type {\n",
       "        vertical-align: middle;\n",
       "    }\n",
       "\n",
       "    .dataframe tbody tr th {\n",
       "        vertical-align: top;\n",
       "    }\n",
       "\n",
       "    .dataframe thead th {\n",
       "        text-align: right;\n",
       "    }\n",
       "</style>\n",
       "<table border=\"1\" class=\"dataframe\">\n",
       "  <thead>\n",
       "    <tr style=\"text-align: right;\">\n",
       "      <th></th>\n",
       "      <th>\"feat\"</th>\n",
       "      <th>uniques</th>\n",
       "      <th>cardinality</th>\n",
       "      <th>nans</th>\n",
       "    </tr>\n",
       "  </thead>\n",
       "  <tbody>\n",
       "    <tr>\n",
       "      <th>0</th>\n",
       "      <td>city_nom</td>\n",
       "      <td>[city_103, city_40, city_21, city_115, city_162, city_176, city_160, city_46, city_61, city_114, city_13, city_159, city_102, city_67, city_100, city_16, city_71, city_104, city_64, city_101, city_83, city_105, city_73, city_75, city_41, city_11, city_93, city_90, city_36, city_20, city_57, city...</td>\n",
       "      <td>123</td>\n",
       "      <td>0</td>\n",
       "    </tr>\n",
       "    <tr>\n",
       "      <th>1</th>\n",
       "      <td>gender_nom</td>\n",
       "      <td>[Male, nan, Female, Other]</td>\n",
       "      <td>4</td>\n",
       "      <td>4508</td>\n",
       "    </tr>\n",
       "    <tr>\n",
       "      <th>2</th>\n",
       "      <td>relevent_experience_nom</td>\n",
       "      <td>[Has relevent experience, No relevent experience]</td>\n",
       "      <td>2</td>\n",
       "      <td>0</td>\n",
       "    </tr>\n",
       "    <tr>\n",
       "      <th>3</th>\n",
       "      <td>enrolled_university_nom</td>\n",
       "      <td>[no_enrollment, Full time course, nan, Part time course]</td>\n",
       "      <td>4</td>\n",
       "      <td>386</td>\n",
       "    </tr>\n",
       "    <tr>\n",
       "      <th>4</th>\n",
       "      <td>major_discipline_nom</td>\n",
       "      <td>[STEM, Business Degree, nan, Arts, Humanities, No Major, Other]</td>\n",
       "      <td>7</td>\n",
       "      <td>2813</td>\n",
       "    </tr>\n",
       "    <tr>\n",
       "      <th>5</th>\n",
       "      <td>company_type_nom</td>\n",
       "      <td>[nan, Pvt Ltd, Funded Startup, Early Stage Startup, Other, Public Sector, NGO]</td>\n",
       "      <td>7</td>\n",
       "      <td>6140</td>\n",
       "    </tr>\n",
       "    <tr>\n",
       "      <th>6</th>\n",
       "      <td>education_level_ord</td>\n",
       "      <td>[Graduate, Masters, High School, nan, Phd, Primary School]</td>\n",
       "      <td>6</td>\n",
       "      <td>460</td>\n",
       "    </tr>\n",
       "    <tr>\n",
       "      <th>7</th>\n",
       "      <td>experience_ord</td>\n",
       "      <td>[&gt;20, 15, 5, &lt;1, 11, 13, 7, 17, 2, 16, 1, 4, 10, 14, 18, 19, 12, 3, 6, 9, 8, 20, nan]</td>\n",
       "      <td>23</td>\n",
       "      <td>65</td>\n",
       "    </tr>\n",
       "    <tr>\n",
       "      <th>8</th>\n",
       "      <td>company_size_ord</td>\n",
       "      <td>[nan, 50-99, &lt;10, 10000+, 5000-9999, 1000-4999, 10/49, 100-500, 500-999]</td>\n",
       "      <td>9</td>\n",
       "      <td>5938</td>\n",
       "    </tr>\n",
       "    <tr>\n",
       "      <th>9</th>\n",
       "      <td>last_new_job_ord</td>\n",
       "      <td>[1, &gt;4, never, 4, 3, 2, nan]</td>\n",
       "      <td>7</td>\n",
       "      <td>423</td>\n",
       "    </tr>\n",
       "  </tbody>\n",
       "</table>\n",
       "</div>"
      ],
      "text/plain": [
       "                    \"feat\"  \\\n",
       "0                 city_nom   \n",
       "1               gender_nom   \n",
       "2  relevent_experience_nom   \n",
       "3  enrolled_university_nom   \n",
       "4     major_discipline_nom   \n",
       "5         company_type_nom   \n",
       "6      education_level_ord   \n",
       "7           experience_ord   \n",
       "8         company_size_ord   \n",
       "9         last_new_job_ord   \n",
       "\n",
       "                                                                                                                                                                                                                                                                                                       uniques  \\\n",
       "0  [city_103, city_40, city_21, city_115, city_162, city_176, city_160, city_46, city_61, city_114, city_13, city_159, city_102, city_67, city_100, city_16, city_71, city_104, city_64, city_101, city_83, city_105, city_73, city_75, city_41, city_11, city_93, city_90, city_36, city_20, city_57, city...   \n",
       "1                                                                                                                                                                                                                                                                                   [Male, nan, Female, Other]   \n",
       "2                                                                                                                                                                                                                                                            [Has relevent experience, No relevent experience]   \n",
       "3                                                                                                                                                                                                                                                     [no_enrollment, Full time course, nan, Part time course]   \n",
       "4                                                                                                                                                                                                                                              [STEM, Business Degree, nan, Arts, Humanities, No Major, Other]   \n",
       "5                                                                                                                                                                                                                               [nan, Pvt Ltd, Funded Startup, Early Stage Startup, Other, Public Sector, NGO]   \n",
       "6                                                                                                                                                                                                                                                   [Graduate, Masters, High School, nan, Phd, Primary School]   \n",
       "7                                                                                                                                                                                                                        [>20, 15, 5, <1, 11, 13, 7, 17, 2, 16, 1, 4, 10, 14, 18, 19, 12, 3, 6, 9, 8, 20, nan]   \n",
       "8                                                                                                                                                                                                                                     [nan, 50-99, <10, 10000+, 5000-9999, 1000-4999, 10/49, 100-500, 500-999]   \n",
       "9                                                                                                                                                                                                                                                                                 [1, >4, never, 4, 3, 2, nan]   \n",
       "\n",
       "   cardinality  nans  \n",
       "0          123     0  \n",
       "1            4  4508  \n",
       "2            2     0  \n",
       "3            4   386  \n",
       "4            7  2813  \n",
       "5            7  6140  \n",
       "6            6   460  \n",
       "7           23    65  \n",
       "8            9  5938  \n",
       "9            7   423  "
      ]
     },
     "execution_count": 19,
     "metadata": {},
     "output_type": "execute_result"
    }
   ],
   "source": [
    "cats = nominals+ordinals\n",
    "\n",
    "\n",
    "def analyse_cats(df, cat_cols):\n",
    "    d = pd.DataFrame()\n",
    "    cl = [];u = [];s =[]; nans =[]\n",
    "    for c in cat_cols:\n",
    "        #print(\"column:\" , c ,\"--Uniques:\" , train[c].unique(), \"--Cardinality:\", train[c].unique().size)\n",
    "        cl.append(c); u.append(df[c].unique());s.append(df[c].unique().size);nans.append(df[c].isnull().sum())\n",
    "        \n",
    "    d['\"feat\"'] = cl;d[\"uniques\"] = u; d[\"cardinality\"] = s; d[\"nans\"] = nans\n",
    "    return d\n",
    "\n",
    "plt.style.use('fivethirtyeight')\n",
    "catanadf = analyse_cats(train, cats)\n",
    "catanadf"
   ]
  },
  {
   "cell_type": "markdown",
   "id": "1a81b9b5",
   "metadata": {
    "papermill": {
     "duration": 0.020192,
     "end_time": "2023-10-09T19:05:02.175757",
     "exception": false,
     "start_time": "2023-10-09T19:05:02.155565",
     "status": "completed"
    },
    "tags": []
   },
   "source": [
    "# Missing Values"
   ]
  },
  {
   "cell_type": "code",
   "execution_count": 20,
   "id": "ef4570d2",
   "metadata": {
    "execution": {
     "iopub.execute_input": "2023-10-09T19:05:02.212560Z",
     "iopub.status.busy": "2023-10-09T19:05:02.211763Z",
     "iopub.status.idle": "2023-10-09T19:05:02.232269Z",
     "shell.execute_reply": "2023-10-09T19:05:02.231249Z"
    },
    "papermill": {
     "duration": 0.040918,
     "end_time": "2023-10-09T19:05:02.234359",
     "exception": false,
     "start_time": "2023-10-09T19:05:02.193441",
     "status": "completed"
    },
    "tags": []
   },
   "outputs": [
    {
     "data": {
      "text/html": [
       "<div>\n",
       "<style scoped>\n",
       "    .dataframe tbody tr th:only-of-type {\n",
       "        vertical-align: middle;\n",
       "    }\n",
       "\n",
       "    .dataframe tbody tr th {\n",
       "        vertical-align: top;\n",
       "    }\n",
       "\n",
       "    .dataframe thead th {\n",
       "        text-align: right;\n",
       "    }\n",
       "</style>\n",
       "<table border=\"1\" class=\"dataframe\">\n",
       "  <thead>\n",
       "    <tr style=\"text-align: right;\">\n",
       "      <th></th>\n",
       "      <th>missing percent</th>\n",
       "    </tr>\n",
       "  </thead>\n",
       "  <tbody>\n",
       "    <tr>\n",
       "      <th>company_type_nom</th>\n",
       "      <td>0.320493</td>\n",
       "    </tr>\n",
       "    <tr>\n",
       "      <th>company_size_ord</th>\n",
       "      <td>0.309949</td>\n",
       "    </tr>\n",
       "    <tr>\n",
       "      <th>gender_nom</th>\n",
       "      <td>0.235306</td>\n",
       "    </tr>\n",
       "    <tr>\n",
       "      <th>major_discipline_nom</th>\n",
       "      <td>0.146832</td>\n",
       "    </tr>\n",
       "    <tr>\n",
       "      <th>education_level_ord</th>\n",
       "      <td>0.024011</td>\n",
       "    </tr>\n",
       "    <tr>\n",
       "      <th>last_new_job_ord</th>\n",
       "      <td>0.022080</td>\n",
       "    </tr>\n",
       "    <tr>\n",
       "      <th>enrolled_university_nom</th>\n",
       "      <td>0.020148</td>\n",
       "    </tr>\n",
       "    <tr>\n",
       "      <th>experience_ord</th>\n",
       "      <td>0.003393</td>\n",
       "    </tr>\n",
       "    <tr>\n",
       "      <th>city_nom</th>\n",
       "      <td>0.000000</td>\n",
       "    </tr>\n",
       "    <tr>\n",
       "      <th>city_development_index</th>\n",
       "      <td>0.000000</td>\n",
       "    </tr>\n",
       "    <tr>\n",
       "      <th>relevent_experience_nom</th>\n",
       "      <td>0.000000</td>\n",
       "    </tr>\n",
       "    <tr>\n",
       "      <th>training_hours</th>\n",
       "      <td>0.000000</td>\n",
       "    </tr>\n",
       "    <tr>\n",
       "      <th>target</th>\n",
       "      <td>0.000000</td>\n",
       "    </tr>\n",
       "  </tbody>\n",
       "</table>\n",
       "</div>"
      ],
      "text/plain": [
       "                         missing percent\n",
       "company_type_nom                0.320493\n",
       "company_size_ord                0.309949\n",
       "gender_nom                      0.235306\n",
       "major_discipline_nom            0.146832\n",
       "education_level_ord             0.024011\n",
       "last_new_job_ord                0.022080\n",
       "enrolled_university_nom         0.020148\n",
       "experience_ord                  0.003393\n",
       "city_nom                        0.000000\n",
       "city_development_index          0.000000\n",
       "relevent_experience_nom         0.000000\n",
       "training_hours                  0.000000\n",
       "target                          0.000000"
      ]
     },
     "execution_count": 20,
     "metadata": {},
     "output_type": "execute_result"
    }
   ],
   "source": [
    "pd.DataFrame(train.isna().sum(axis = 0) / len(train), columns = [\"missing percent\"]).sort_values(\"missing percent\", ascending = False)"
   ]
  },
  {
   "cell_type": "code",
   "execution_count": 21,
   "id": "f26adb2f",
   "metadata": {
    "execution": {
     "iopub.execute_input": "2023-10-09T19:05:02.271926Z",
     "iopub.status.busy": "2023-10-09T19:05:02.271532Z",
     "iopub.status.idle": "2023-10-09T19:05:02.296275Z",
     "shell.execute_reply": "2023-10-09T19:05:02.295230Z"
    },
    "papermill": {
     "duration": 0.046157,
     "end_time": "2023-10-09T19:05:02.298536",
     "exception": false,
     "start_time": "2023-10-09T19:05:02.252379",
     "status": "completed"
    },
    "tags": []
   },
   "outputs": [
    {
     "data": {
      "text/html": [
       "<div>\n",
       "<style scoped>\n",
       "    .dataframe tbody tr th:only-of-type {\n",
       "        vertical-align: middle;\n",
       "    }\n",
       "\n",
       "    .dataframe tbody tr th {\n",
       "        vertical-align: top;\n",
       "    }\n",
       "\n",
       "    .dataframe thead th {\n",
       "        text-align: right;\n",
       "    }\n",
       "</style>\n",
       "<table border=\"1\" class=\"dataframe\">\n",
       "  <thead>\n",
       "    <tr style=\"text-align: right;\">\n",
       "      <th></th>\n",
       "      <th>counts</th>\n",
       "      <th>percentage</th>\n",
       "    </tr>\n",
       "  </thead>\n",
       "  <tbody>\n",
       "    <tr>\n",
       "      <th>company_type_nom</th>\n",
       "      <td>6140</td>\n",
       "      <td>32.049274</td>\n",
       "    </tr>\n",
       "    <tr>\n",
       "      <th>company_size_ord</th>\n",
       "      <td>5938</td>\n",
       "      <td>30.994885</td>\n",
       "    </tr>\n",
       "    <tr>\n",
       "      <th>gender_nom</th>\n",
       "      <td>4508</td>\n",
       "      <td>23.530640</td>\n",
       "    </tr>\n",
       "    <tr>\n",
       "      <th>major_discipline_nom</th>\n",
       "      <td>2813</td>\n",
       "      <td>14.683161</td>\n",
       "    </tr>\n",
       "    <tr>\n",
       "      <th>education_level_ord</th>\n",
       "      <td>460</td>\n",
       "      <td>2.401086</td>\n",
       "    </tr>\n",
       "    <tr>\n",
       "      <th>last_new_job_ord</th>\n",
       "      <td>423</td>\n",
       "      <td>2.207955</td>\n",
       "    </tr>\n",
       "    <tr>\n",
       "      <th>enrolled_university_nom</th>\n",
       "      <td>386</td>\n",
       "      <td>2.014824</td>\n",
       "    </tr>\n",
       "    <tr>\n",
       "      <th>experience_ord</th>\n",
       "      <td>65</td>\n",
       "      <td>0.339284</td>\n",
       "    </tr>\n",
       "  </tbody>\n",
       "</table>\n",
       "</div>"
      ],
      "text/plain": [
       "                         counts  percentage\n",
       "company_type_nom           6140   32.049274\n",
       "company_size_ord           5938   30.994885\n",
       "gender_nom                 4508   23.530640\n",
       "major_discipline_nom       2813   14.683161\n",
       "education_level_ord         460    2.401086\n",
       "last_new_job_ord            423    2.207955\n",
       "enrolled_university_nom     386    2.014824\n",
       "experience_ord               65    0.339284"
      ]
     },
     "execution_count": 21,
     "metadata": {},
     "output_type": "execute_result"
    }
   ],
   "source": [
    "def null_analysis(df):\n",
    "  '''\n",
    "  desc: get nulls for each column in counts & percentages\n",
    "  arg: dataframe\n",
    "  return: dataframe\n",
    "  '''\n",
    "  null_cnt = df.isnull().sum() # calculate null counts\n",
    "  null_cnt = null_cnt[null_cnt!=0] # remove non-null cols\n",
    "  null_percent = null_cnt / len(df) * 100 # calculate null percentages\n",
    "  null_table = pd.concat([pd.DataFrame(null_cnt), pd.DataFrame(null_percent)], axis=1)\n",
    "  null_table.columns = ['counts', 'percentage']\n",
    "  null_table.sort_values('counts', ascending=False, inplace=True)\n",
    "  return null_table\n",
    "\n",
    "null_table = null_analysis(train)\n",
    "#plt.bar(null_table.reset_index(), x='index', y='percentage', text='counts', height=500)\n",
    "null_table"
   ]
  },
  {
   "cell_type": "code",
   "execution_count": 22,
   "id": "02bcee03",
   "metadata": {
    "execution": {
     "iopub.execute_input": "2023-10-09T19:05:02.336467Z",
     "iopub.status.busy": "2023-10-09T19:05:02.336048Z",
     "iopub.status.idle": "2023-10-09T19:05:02.346971Z",
     "shell.execute_reply": "2023-10-09T19:05:02.346104Z"
    },
    "papermill": {
     "duration": 0.032325,
     "end_time": "2023-10-09T19:05:02.348987",
     "exception": false,
     "start_time": "2023-10-09T19:05:02.316662",
     "status": "completed"
    },
    "tags": []
   },
   "outputs": [
    {
     "data": {
      "text/html": [
       "<div>\n",
       "<style scoped>\n",
       "    .dataframe tbody tr th:only-of-type {\n",
       "        vertical-align: middle;\n",
       "    }\n",
       "\n",
       "    .dataframe tbody tr th {\n",
       "        vertical-align: top;\n",
       "    }\n",
       "\n",
       "    .dataframe thead th {\n",
       "        text-align: right;\n",
       "    }\n",
       "</style>\n",
       "<table border=\"1\" class=\"dataframe\">\n",
       "  <thead>\n",
       "    <tr style=\"text-align: right;\">\n",
       "      <th></th>\n",
       "      <th>index</th>\n",
       "      <th>counts</th>\n",
       "      <th>percentage</th>\n",
       "    </tr>\n",
       "  </thead>\n",
       "  <tbody>\n",
       "    <tr>\n",
       "      <th>0</th>\n",
       "      <td>company_type_nom</td>\n",
       "      <td>6140</td>\n",
       "      <td>32.049274</td>\n",
       "    </tr>\n",
       "    <tr>\n",
       "      <th>1</th>\n",
       "      <td>company_size_ord</td>\n",
       "      <td>5938</td>\n",
       "      <td>30.994885</td>\n",
       "    </tr>\n",
       "    <tr>\n",
       "      <th>2</th>\n",
       "      <td>gender_nom</td>\n",
       "      <td>4508</td>\n",
       "      <td>23.530640</td>\n",
       "    </tr>\n",
       "    <tr>\n",
       "      <th>3</th>\n",
       "      <td>major_discipline_nom</td>\n",
       "      <td>2813</td>\n",
       "      <td>14.683161</td>\n",
       "    </tr>\n",
       "    <tr>\n",
       "      <th>4</th>\n",
       "      <td>education_level_ord</td>\n",
       "      <td>460</td>\n",
       "      <td>2.401086</td>\n",
       "    </tr>\n",
       "    <tr>\n",
       "      <th>5</th>\n",
       "      <td>last_new_job_ord</td>\n",
       "      <td>423</td>\n",
       "      <td>2.207955</td>\n",
       "    </tr>\n",
       "    <tr>\n",
       "      <th>6</th>\n",
       "      <td>enrolled_university_nom</td>\n",
       "      <td>386</td>\n",
       "      <td>2.014824</td>\n",
       "    </tr>\n",
       "    <tr>\n",
       "      <th>7</th>\n",
       "      <td>experience_ord</td>\n",
       "      <td>65</td>\n",
       "      <td>0.339284</td>\n",
       "    </tr>\n",
       "  </tbody>\n",
       "</table>\n",
       "</div>"
      ],
      "text/plain": [
       "                     index  counts  percentage\n",
       "0         company_type_nom    6140   32.049274\n",
       "1         company_size_ord    5938   30.994885\n",
       "2               gender_nom    4508   23.530640\n",
       "3     major_discipline_nom    2813   14.683161\n",
       "4      education_level_ord     460    2.401086\n",
       "5         last_new_job_ord     423    2.207955\n",
       "6  enrolled_university_nom     386    2.014824\n",
       "7           experience_ord      65    0.339284"
      ]
     },
     "execution_count": 22,
     "metadata": {},
     "output_type": "execute_result"
    }
   ],
   "source": [
    "null_table.reset_index()"
   ]
  },
  {
   "cell_type": "code",
   "execution_count": 23,
   "id": "8e08f33e",
   "metadata": {
    "execution": {
     "iopub.execute_input": "2023-10-09T19:05:02.386560Z",
     "iopub.status.busy": "2023-10-09T19:05:02.386123Z",
     "iopub.status.idle": "2023-10-09T19:05:02.692207Z",
     "shell.execute_reply": "2023-10-09T19:05:02.691200Z"
    },
    "papermill": {
     "duration": 0.327344,
     "end_time": "2023-10-09T19:05:02.694271",
     "exception": false,
     "start_time": "2023-10-09T19:05:02.366927",
     "status": "completed"
    },
    "tags": []
   },
   "outputs": [
    {
     "data": {
      "text/plain": [
       "<AxesSubplot:xlabel='counts', ylabel='index'>"
      ]
     },
     "execution_count": 23,
     "metadata": {},
     "output_type": "execute_result"
    },
    {
     "data": {
      "image/png": "[encoded data removed]",
      "text/plain": [
       "<Figure size 1400x500 with 1 Axes>"
      ]
     },
     "metadata": {},
     "output_type": "display_data"
    }
   ],
   "source": [
    "plt.figure(figsize=(14, 5))\n",
    "sns.barplot(data= null_table.reset_index()[['index', 'counts']], x= 'counts', y='index', palette='gray')"
   ]
  },
  {
   "cell_type": "markdown",
   "id": "5ed1c062",
   "metadata": {
    "papermill": {
     "duration": 0.019363,
     "end_time": "2023-10-09T19:05:02.732350",
     "exception": false,
     "start_time": "2023-10-09T19:05:02.712987",
     "status": "completed"
    },
    "tags": []
   },
   "source": [
    "# Data Preprocessing"
   ]
  },
  {
   "cell_type": "code",
   "execution_count": 24,
   "id": "b156537c",
   "metadata": {
    "execution": {
     "iopub.execute_input": "2023-10-09T19:05:02.771919Z",
     "iopub.status.busy": "2023-10-09T19:05:02.771545Z",
     "iopub.status.idle": "2023-10-09T19:05:02.778213Z",
     "shell.execute_reply": "2023-10-09T19:05:02.777435Z"
    },
    "papermill": {
     "duration": 0.028744,
     "end_time": "2023-10-09T19:05:02.780126",
     "exception": false,
     "start_time": "2023-10-09T19:05:02.751382",
     "status": "completed"
    },
    "tags": []
   },
   "outputs": [],
   "source": [
    "train = tr_orig.copy()\n",
    "test = ts_orig.copy()\n",
    "\n",
    "del train[\"enrollee_id\"]\n",
    "del test[\"enrollee_id\"]"
   ]
  },
  {
   "cell_type": "markdown",
   "id": "11e2097e",
   "metadata": {
    "papermill": {
     "duration": 0.019833,
     "end_time": "2023-10-09T19:05:02.818798",
     "exception": false,
     "start_time": "2023-10-09T19:05:02.798965",
     "status": "completed"
    },
    "tags": []
   },
   "source": [
    "## Ordinal Encoding"
   ]
  },
  {
   "cell_type": "code",
   "execution_count": 25,
   "id": "8e1113ad",
   "metadata": {
    "execution": {
     "iopub.execute_input": "2023-10-09T19:05:02.859689Z",
     "iopub.status.busy": "2023-10-09T19:05:02.859048Z",
     "iopub.status.idle": "2023-10-09T19:05:02.868827Z",
     "shell.execute_reply": "2023-10-09T19:05:02.867520Z"
    },
    "papermill": {
     "duration": 0.032238,
     "end_time": "2023-10-09T19:05:02.870973",
     "exception": false,
     "start_time": "2023-10-09T19:05:02.838735",
     "status": "completed"
    },
    "tags": []
   },
   "outputs": [
    {
     "name": "stdout",
     "output_type": "stream",
     "text": [
      "education_level_ord ['Graduate', 'Masters', 'High School', nan, 'Phd', 'Primary School']\n",
      "experience_ord ['>20', '15', '5', '<1', '11', '13', '7', '17', '2', '16', '1', '4', '10', '14', '18', '19', '12', '3', '6', '9', '8', '20', nan]\n",
      "company_size_ord [nan, '50-99', '<10', '10000+', '5000-9999', '1000-4999', '10/49', '100-500', '500-999']\n",
      "last_new_job_ord ['1', '>4', 'never', '4', '3', '2', nan]\n"
     ]
    }
   ],
   "source": [
    "for c in ordinals:\n",
    "    print(c, list(train[c].unique()))"
   ]
  },
  {
   "cell_type": "code",
   "execution_count": 26,
   "id": "466fbc42",
   "metadata": {
    "execution": {
     "iopub.execute_input": "2023-10-09T19:05:02.912172Z",
     "iopub.status.busy": "2023-10-09T19:05:02.911584Z",
     "iopub.status.idle": "2023-10-09T19:05:02.918268Z",
     "shell.execute_reply": "2023-10-09T19:05:02.917500Z"
    },
    "papermill": {
     "duration": 0.0294,
     "end_time": "2023-10-09T19:05:02.920347",
     "exception": false,
     "start_time": "2023-10-09T19:05:02.890947",
     "status": "completed"
    },
    "tags": []
   },
   "outputs": [],
   "source": [
    "def OrdMapping(df):\n",
    "    \n",
    "    \n",
    "    education_level_ord_mapping = {'Primary School': 0,'High School': 1,'Graduate': 2 , 'Masters':3,'Phd': 4 }\n",
    "    experience_ord_mapping= {'<1':0, '1':2, '2':3, '3':4,'4':5, '5':6, '6':7, '7':8, '8':9,'9':10, '10':11, '12':13, '13':14,'14':15, '15':16, '16':17,  '17':18,'18':19, '19':20,'20':21,'>20':22}\n",
    "    company_size_ord_mapping = {'<10':0 ,'10/49':1,'50-99':2, '100-500':3, '500-999':4, '1000-4999':5,'5000-9999':6, '10000+':7}\n",
    "    \n",
    "    last_new_job_ord_mapping = {'never':0,'1':1,'2':2,'3':3,'4':4,'>4':5}\n",
    "    df['education_level_ord'] = df.education_level_ord.map(education_level_ord_mapping)\n",
    "    df['experience_ord'] = df.experience_ord.map(experience_ord_mapping)\n",
    "    df['company_size_ord'] = df.company_size_ord.map(company_size_ord_mapping)\n",
    "    df['last_new_job_ord'] = df.last_new_job_ord.map(last_new_job_ord_mapping)\n",
    "     \n",
    "    return df"
   ]
  },
  {
   "cell_type": "code",
   "execution_count": 27,
   "id": "a852c1dd",
   "metadata": {
    "execution": {
     "iopub.execute_input": "2023-10-09T19:05:02.960571Z",
     "iopub.status.busy": "2023-10-09T19:05:02.959937Z",
     "iopub.status.idle": "2023-10-09T19:05:02.977237Z",
     "shell.execute_reply": "2023-10-09T19:05:02.975979Z"
    },
    "papermill": {
     "duration": 0.040666,
     "end_time": "2023-10-09T19:05:02.979869",
     "exception": false,
     "start_time": "2023-10-09T19:05:02.939203",
     "status": "completed"
    },
    "tags": []
   },
   "outputs": [],
   "source": [
    "train = OrdMapping(train)\n",
    "test = OrdMapping(test)"
   ]
  },
  {
   "cell_type": "code",
   "execution_count": 28,
   "id": "1ea6663a",
   "metadata": {
    "execution": {
     "iopub.execute_input": "2023-10-09T19:05:03.022886Z",
     "iopub.status.busy": "2023-10-09T19:05:03.022206Z",
     "iopub.status.idle": "2023-10-09T19:05:03.039595Z",
     "shell.execute_reply": "2023-10-09T19:05:03.038695Z"
    },
    "papermill": {
     "duration": 0.042401,
     "end_time": "2023-10-09T19:05:03.042243",
     "exception": false,
     "start_time": "2023-10-09T19:05:02.999842",
     "status": "completed"
    },
    "tags": []
   },
   "outputs": [
    {
     "data": {
      "text/html": [
       "<div>\n",
       "<style scoped>\n",
       "    .dataframe tbody tr th:only-of-type {\n",
       "        vertical-align: middle;\n",
       "    }\n",
       "\n",
       "    .dataframe tbody tr th {\n",
       "        vertical-align: top;\n",
       "    }\n",
       "\n",
       "    .dataframe thead th {\n",
       "        text-align: right;\n",
       "    }\n",
       "</style>\n",
       "<table border=\"1\" class=\"dataframe\">\n",
       "  <thead>\n",
       "    <tr style=\"text-align: right;\">\n",
       "      <th></th>\n",
       "      <th>city_nom</th>\n",
       "      <th>city_development_index</th>\n",
       "      <th>gender_nom</th>\n",
       "      <th>relevent_experience_nom</th>\n",
       "      <th>enrolled_university_nom</th>\n",
       "      <th>education_level_ord</th>\n",
       "      <th>major_discipline_nom</th>\n",
       "      <th>experience_ord</th>\n",
       "      <th>company_size_ord</th>\n",
       "      <th>company_type_nom</th>\n",
       "      <th>last_new_job_ord</th>\n",
       "      <th>training_hours</th>\n",
       "      <th>target</th>\n",
       "    </tr>\n",
       "  </thead>\n",
       "  <tbody>\n",
       "    <tr>\n",
       "      <th>0</th>\n",
       "      <td>city_103</td>\n",
       "      <td>0.920</td>\n",
       "      <td>Male</td>\n",
       "      <td>Has relevent experience</td>\n",
       "      <td>no_enrollment</td>\n",
       "      <td>2.0</td>\n",
       "      <td>STEM</td>\n",
       "      <td>22.0</td>\n",
       "      <td>NaN</td>\n",
       "      <td>NaN</td>\n",
       "      <td>1.0</td>\n",
       "      <td>36</td>\n",
       "      <td>1.0</td>\n",
       "    </tr>\n",
       "    <tr>\n",
       "      <th>1</th>\n",
       "      <td>city_40</td>\n",
       "      <td>0.776</td>\n",
       "      <td>Male</td>\n",
       "      <td>No relevent experience</td>\n",
       "      <td>no_enrollment</td>\n",
       "      <td>2.0</td>\n",
       "      <td>STEM</td>\n",
       "      <td>16.0</td>\n",
       "      <td>2.0</td>\n",
       "      <td>Pvt Ltd</td>\n",
       "      <td>5.0</td>\n",
       "      <td>47</td>\n",
       "      <td>0.0</td>\n",
       "    </tr>\n",
       "    <tr>\n",
       "      <th>2</th>\n",
       "      <td>city_21</td>\n",
       "      <td>0.624</td>\n",
       "      <td>NaN</td>\n",
       "      <td>No relevent experience</td>\n",
       "      <td>Full time course</td>\n",
       "      <td>2.0</td>\n",
       "      <td>STEM</td>\n",
       "      <td>6.0</td>\n",
       "      <td>NaN</td>\n",
       "      <td>NaN</td>\n",
       "      <td>0.0</td>\n",
       "      <td>83</td>\n",
       "      <td>0.0</td>\n",
       "    </tr>\n",
       "    <tr>\n",
       "      <th>3</th>\n",
       "      <td>city_115</td>\n",
       "      <td>0.789</td>\n",
       "      <td>NaN</td>\n",
       "      <td>No relevent experience</td>\n",
       "      <td>NaN</td>\n",
       "      <td>2.0</td>\n",
       "      <td>Business Degree</td>\n",
       "      <td>0.0</td>\n",
       "      <td>NaN</td>\n",
       "      <td>Pvt Ltd</td>\n",
       "      <td>0.0</td>\n",
       "      <td>52</td>\n",
       "      <td>1.0</td>\n",
       "    </tr>\n",
       "    <tr>\n",
       "      <th>4</th>\n",
       "      <td>city_162</td>\n",
       "      <td>0.767</td>\n",
       "      <td>Male</td>\n",
       "      <td>Has relevent experience</td>\n",
       "      <td>no_enrollment</td>\n",
       "      <td>3.0</td>\n",
       "      <td>STEM</td>\n",
       "      <td>22.0</td>\n",
       "      <td>2.0</td>\n",
       "      <td>Funded Startup</td>\n",
       "      <td>4.0</td>\n",
       "      <td>8</td>\n",
       "      <td>0.0</td>\n",
       "    </tr>\n",
       "  </tbody>\n",
       "</table>\n",
       "</div>"
      ],
      "text/plain": [
       "   city_nom  city_development_index gender_nom  relevent_experience_nom  \\\n",
       "0  city_103                   0.920       Male  Has relevent experience   \n",
       "1   city_40                   0.776       Male   No relevent experience   \n",
       "2   city_21                   0.624        NaN   No relevent experience   \n",
       "3  city_115                   0.789        NaN   No relevent experience   \n",
       "4  city_162                   0.767       Male  Has relevent experience   \n",
       "\n",
       "  enrolled_university_nom  education_level_ord major_discipline_nom  \\\n",
       "0           no_enrollment                  2.0                 STEM   \n",
       "1           no_enrollment                  2.0                 STEM   \n",
       "2        Full time course                  2.0                 STEM   \n",
       "3                     NaN                  2.0      Business Degree   \n",
       "4           no_enrollment                  3.0                 STEM   \n",
       "\n",
       "   experience_ord  company_size_ord company_type_nom  last_new_job_ord  \\\n",
       "0            22.0               NaN              NaN               1.0   \n",
       "1            16.0               2.0          Pvt Ltd               5.0   \n",
       "2             6.0               NaN              NaN               0.0   \n",
       "3             0.0               NaN          Pvt Ltd               0.0   \n",
       "4            22.0               2.0   Funded Startup               4.0   \n",
       "\n",
       "   training_hours  target  \n",
       "0              36     1.0  \n",
       "1              47     0.0  \n",
       "2              83     0.0  \n",
       "3              52     1.0  \n",
       "4               8     0.0  "
      ]
     },
     "execution_count": 28,
     "metadata": {},
     "output_type": "execute_result"
    }
   ],
   "source": [
    "train.head()"
   ]
  },
  {
   "cell_type": "code",
   "execution_count": 29,
   "id": "beca3377",
   "metadata": {
    "execution": {
     "iopub.execute_input": "2023-10-09T19:05:03.090403Z",
     "iopub.status.busy": "2023-10-09T19:05:03.089636Z",
     "iopub.status.idle": "2023-10-09T19:05:03.107631Z",
     "shell.execute_reply": "2023-10-09T19:05:03.106399Z"
    },
    "papermill": {
     "duration": 0.046309,
     "end_time": "2023-10-09T19:05:03.110058",
     "exception": false,
     "start_time": "2023-10-09T19:05:03.063749",
     "status": "completed"
    },
    "tags": []
   },
   "outputs": [
    {
     "data": {
      "text/html": [
       "<div>\n",
       "<style scoped>\n",
       "    .dataframe tbody tr th:only-of-type {\n",
       "        vertical-align: middle;\n",
       "    }\n",
       "\n",
       "    .dataframe tbody tr th {\n",
       "        vertical-align: top;\n",
       "    }\n",
       "\n",
       "    .dataframe thead th {\n",
       "        text-align: right;\n",
       "    }\n",
       "</style>\n",
       "<table border=\"1\" class=\"dataframe\">\n",
       "  <thead>\n",
       "    <tr style=\"text-align: right;\">\n",
       "      <th></th>\n",
       "      <th>city_nom</th>\n",
       "      <th>city_development_index</th>\n",
       "      <th>gender_nom</th>\n",
       "      <th>relevent_experience_nom</th>\n",
       "      <th>enrolled_university_nom</th>\n",
       "      <th>education_level_ord</th>\n",
       "      <th>major_discipline_nom</th>\n",
       "      <th>experience_ord</th>\n",
       "      <th>company_size_ord</th>\n",
       "      <th>company_type_nom</th>\n",
       "      <th>last_new_job_ord</th>\n",
       "      <th>training_hours</th>\n",
       "    </tr>\n",
       "  </thead>\n",
       "  <tbody>\n",
       "    <tr>\n",
       "      <th>0</th>\n",
       "      <td>city_41</td>\n",
       "      <td>0.827</td>\n",
       "      <td>Male</td>\n",
       "      <td>Has relevent experience</td>\n",
       "      <td>Full time course</td>\n",
       "      <td>2.0</td>\n",
       "      <td>STEM</td>\n",
       "      <td>10.0</td>\n",
       "      <td>0.0</td>\n",
       "      <td>NaN</td>\n",
       "      <td>1.0</td>\n",
       "      <td>21</td>\n",
       "    </tr>\n",
       "    <tr>\n",
       "      <th>1</th>\n",
       "      <td>city_103</td>\n",
       "      <td>0.920</td>\n",
       "      <td>Female</td>\n",
       "      <td>Has relevent experience</td>\n",
       "      <td>no_enrollment</td>\n",
       "      <td>2.0</td>\n",
       "      <td>STEM</td>\n",
       "      <td>6.0</td>\n",
       "      <td>NaN</td>\n",
       "      <td>Pvt Ltd</td>\n",
       "      <td>1.0</td>\n",
       "      <td>98</td>\n",
       "    </tr>\n",
       "    <tr>\n",
       "      <th>2</th>\n",
       "      <td>city_21</td>\n",
       "      <td>0.624</td>\n",
       "      <td>Male</td>\n",
       "      <td>No relevent experience</td>\n",
       "      <td>no_enrollment</td>\n",
       "      <td>1.0</td>\n",
       "      <td>NaN</td>\n",
       "      <td>0.0</td>\n",
       "      <td>NaN</td>\n",
       "      <td>Pvt Ltd</td>\n",
       "      <td>0.0</td>\n",
       "      <td>15</td>\n",
       "    </tr>\n",
       "    <tr>\n",
       "      <th>3</th>\n",
       "      <td>city_13</td>\n",
       "      <td>0.827</td>\n",
       "      <td>Male</td>\n",
       "      <td>Has relevent experience</td>\n",
       "      <td>no_enrollment</td>\n",
       "      <td>3.0</td>\n",
       "      <td>STEM</td>\n",
       "      <td>NaN</td>\n",
       "      <td>1.0</td>\n",
       "      <td>Pvt Ltd</td>\n",
       "      <td>1.0</td>\n",
       "      <td>39</td>\n",
       "    </tr>\n",
       "    <tr>\n",
       "      <th>4</th>\n",
       "      <td>city_103</td>\n",
       "      <td>0.920</td>\n",
       "      <td>Male</td>\n",
       "      <td>Has relevent experience</td>\n",
       "      <td>no_enrollment</td>\n",
       "      <td>2.0</td>\n",
       "      <td>STEM</td>\n",
       "      <td>22.0</td>\n",
       "      <td>7.0</td>\n",
       "      <td>Pvt Ltd</td>\n",
       "      <td>5.0</td>\n",
       "      <td>72</td>\n",
       "    </tr>\n",
       "  </tbody>\n",
       "</table>\n",
       "</div>"
      ],
      "text/plain": [
       "   city_nom  city_development_index gender_nom  relevent_experience_nom  \\\n",
       "0   city_41                   0.827       Male  Has relevent experience   \n",
       "1  city_103                   0.920     Female  Has relevent experience   \n",
       "2   city_21                   0.624       Male   No relevent experience   \n",
       "3   city_13                   0.827       Male  Has relevent experience   \n",
       "4  city_103                   0.920       Male  Has relevent experience   \n",
       "\n",
       "  enrolled_university_nom  education_level_ord major_discipline_nom  \\\n",
       "0        Full time course                  2.0                 STEM   \n",
       "1           no_enrollment                  2.0                 STEM   \n",
       "2           no_enrollment                  1.0                  NaN   \n",
       "3           no_enrollment                  3.0                 STEM   \n",
       "4           no_enrollment                  2.0                 STEM   \n",
       "\n",
       "   experience_ord  company_size_ord company_type_nom  last_new_job_ord  \\\n",
       "0            10.0               0.0              NaN               1.0   \n",
       "1             6.0               NaN          Pvt Ltd               1.0   \n",
       "2             0.0               NaN          Pvt Ltd               0.0   \n",
       "3             NaN               1.0          Pvt Ltd               1.0   \n",
       "4            22.0               7.0          Pvt Ltd               5.0   \n",
       "\n",
       "   training_hours  \n",
       "0              21  \n",
       "1              98  \n",
       "2              15  \n",
       "3              39  \n",
       "4              72  "
      ]
     },
     "execution_count": 29,
     "metadata": {},
     "output_type": "execute_result"
    }
   ],
   "source": [
    "test.head()"
   ]
  },
  {
   "cell_type": "markdown",
   "id": "c69dd353",
   "metadata": {
    "papermill": {
     "duration": 0.018863,
     "end_time": "2023-10-09T19:05:03.148419",
     "exception": false,
     "start_time": "2023-10-09T19:05:03.129556",
     "status": "completed"
    },
    "tags": []
   },
   "source": [
    "## Nominal Encoding"
   ]
  },
  {
   "cell_type": "code",
   "execution_count": 30,
   "id": "7271759b",
   "metadata": {
    "execution": {
     "iopub.execute_input": "2023-10-09T19:05:03.190746Z",
     "iopub.status.busy": "2023-10-09T19:05:03.189978Z",
     "iopub.status.idle": "2023-10-09T19:05:03.349748Z",
     "shell.execute_reply": "2023-10-09T19:05:03.348575Z"
    },
    "papermill": {
     "duration": 0.184747,
     "end_time": "2023-10-09T19:05:03.352399",
     "exception": false,
     "start_time": "2023-10-09T19:05:03.167652",
     "status": "completed"
    },
    "tags": []
   },
   "outputs": [
    {
     "name": "stdout",
     "output_type": "stream",
     "text": [
      "target mapping :   city_nom {'city_1': 0, 'city_10': 1, 'city_100': 2, 'city_101': 3, 'city_102': 4, 'city_103': 5, 'city_104': 6, 'city_105': 7, 'city_106': 8, 'city_107': 9, 'city_109': 10, 'city_11': 11, 'city_111': 12, 'city_114': 13, 'city_115': 14, 'city_116': 15, 'city_117': 16, 'city_118': 17, 'city_12': 18, 'city_120': 19, 'city_121': 20, 'city_123': 21, 'city_126': 22, 'city_127': 23, 'city_128': 24, 'city_129': 25, 'city_13': 26, 'city_131': 27, 'city_133': 28, 'city_134': 29, 'city_136': 30, 'city_138': 31, 'city_139': 32, 'city_14': 33, 'city_140': 34, 'city_141': 35, 'city_142': 36, 'city_143': 37, 'city_144': 38, 'city_145': 39, 'city_146': 40, 'city_149': 41, 'city_150': 42, 'city_152': 43, 'city_155': 44, 'city_157': 45, 'city_158': 46, 'city_159': 47, 'city_16': 48, 'city_160': 49, 'city_162': 50, 'city_165': 51, 'city_166': 52, 'city_167': 53, 'city_171': 54, 'city_173': 55, 'city_175': 56, 'city_176': 57, 'city_179': 58, 'city_18': 59, 'city_180': 60, 'city_19': 61, 'city_2': 62, 'city_20': 63, 'city_21': 64, 'city_23': 65, 'city_24': 66, 'city_25': 67, 'city_26': 68, 'city_27': 69, 'city_28': 70, 'city_30': 71, 'city_31': 72, 'city_33': 73, 'city_36': 74, 'city_37': 75, 'city_39': 76, 'city_40': 77, 'city_41': 78, 'city_42': 79, 'city_43': 80, 'city_44': 81, 'city_45': 82, 'city_46': 83, 'city_48': 84, 'city_50': 85, 'city_53': 86, 'city_54': 87, 'city_55': 88, 'city_57': 89, 'city_59': 90, 'city_61': 91, 'city_62': 92, 'city_64': 93, 'city_65': 94, 'city_67': 95, 'city_69': 96, 'city_7': 97, 'city_70': 98, 'city_71': 99, 'city_72': 100, 'city_73': 101, 'city_74': 102, 'city_75': 103, 'city_76': 104, 'city_77': 105, 'city_78': 106, 'city_79': 107, 'city_8': 108, 'city_80': 109, 'city_81': 110, 'city_82': 111, 'city_83': 112, 'city_84': 113, 'city_89': 114, 'city_9': 115, 'city_90': 116, 'city_91': 117, 'city_93': 118, 'city_94': 119, 'city_97': 120, 'city_98': 121, 'city_99': 122}\n",
      "target mapping :   gender_nom {'Female': 0, 'Male': 1, 'Other': 2, 'nan': 3}\n",
      "target mapping :   relevent_experience_nom {'Has relevent experience': 0, 'No relevent experience': 1}\n",
      "target mapping :   enrolled_university_nom {'Full time course': 0, 'Part time course': 1, 'nan': 2, 'no_enrollment': 3}\n",
      "target mapping :   major_discipline_nom {'Arts': 0, 'Business Degree': 1, 'Humanities': 2, 'No Major': 3, 'Other': 4, 'STEM': 5, 'nan': 6}\n",
      "target mapping :   company_type_nom {'Early Stage Startup': 0, 'Funded Startup': 1, 'NGO': 2, 'Other': 3, 'Public Sector': 4, 'Pvt Ltd': 5, 'nan': 6}\n"
     ]
    }
   ],
   "source": [
    "for c in nominals:\n",
    "    le = LabelEncoder()\n",
    "    le.fit(list(train[c].astype(str)) + list(test[c].astype(str)))\n",
    "    train[c] = le.transform(train[c].astype(str))\n",
    "    test[c] = le.transform(test[c].astype(str))\n",
    "    le_name_mapping = dict(zip(le.classes_, le.transform(le.classes_)))\n",
    "    print('target mapping :  ',c ,  le_name_mapping)"
   ]
  },
  {
   "cell_type": "code",
   "execution_count": 31,
   "id": "b48b131b",
   "metadata": {
    "execution": {
     "iopub.execute_input": "2023-10-09T19:05:03.394333Z",
     "iopub.status.busy": "2023-10-09T19:05:03.393912Z",
     "iopub.status.idle": "2023-10-09T19:05:03.433593Z",
     "shell.execute_reply": "2023-10-09T19:05:03.432433Z"
    },
    "papermill": {
     "duration": 0.063753,
     "end_time": "2023-10-09T19:05:03.436055",
     "exception": false,
     "start_time": "2023-10-09T19:05:03.372302",
     "status": "completed"
    },
    "tags": []
   },
   "outputs": [],
   "source": [
    "cats = ordinals + nominals\n",
    "\n",
    "imp = SimpleImputer(strategy = \"most_frequent\")\n",
    "train[cats] = imp.fit_transform(train[cats])\n",
    "test[cats] = imp.fit_transform(test[cats])"
   ]
  },
  {
   "cell_type": "code",
   "execution_count": 32,
   "id": "e847e6fc",
   "metadata": {
    "execution": {
     "iopub.execute_input": "2023-10-09T19:05:03.476169Z",
     "iopub.status.busy": "2023-10-09T19:05:03.475761Z",
     "iopub.status.idle": "2023-10-09T19:05:03.484433Z",
     "shell.execute_reply": "2023-10-09T19:05:03.483650Z"
    },
    "papermill": {
     "duration": 0.030887,
     "end_time": "2023-10-09T19:05:03.486391",
     "exception": false,
     "start_time": "2023-10-09T19:05:03.455504",
     "status": "completed"
    },
    "tags": []
   },
   "outputs": [
    {
     "data": {
      "text/plain": [
       "city_nom                   0\n",
       "city_development_index     0\n",
       "gender_nom                 0\n",
       "relevent_experience_nom    0\n",
       "enrolled_university_nom    0\n",
       "education_level_ord        0\n",
       "major_discipline_nom       0\n",
       "experience_ord             0\n",
       "company_size_ord           0\n",
       "company_type_nom           0\n",
       "last_new_job_ord           0\n",
       "training_hours             0\n",
       "target                     0\n",
       "dtype: int64"
      ]
     },
     "execution_count": 32,
     "metadata": {},
     "output_type": "execute_result"
    }
   ],
   "source": [
    "train.isnull().sum()"
   ]
  },
  {
   "cell_type": "code",
   "execution_count": 33,
   "id": "d5615e2e",
   "metadata": {
    "execution": {
     "iopub.execute_input": "2023-10-09T19:05:03.527716Z",
     "iopub.status.busy": "2023-10-09T19:05:03.527047Z",
     "iopub.status.idle": "2023-10-09T19:05:03.531775Z",
     "shell.execute_reply": "2023-10-09T19:05:03.531052Z"
    },
    "papermill": {
     "duration": 0.027292,
     "end_time": "2023-10-09T19:05:03.533676",
     "exception": false,
     "start_time": "2023-10-09T19:05:03.506384",
     "status": "completed"
    },
    "tags": []
   },
   "outputs": [],
   "source": [
    "target = train.pop(\"target\")\n",
    "nums = [c for c in train.columns if c not in cats]"
   ]
  },
  {
   "cell_type": "code",
   "execution_count": 34,
   "id": "5a52a827",
   "metadata": {
    "execution": {
     "iopub.execute_input": "2023-10-09T19:05:03.575380Z",
     "iopub.status.busy": "2023-10-09T19:05:03.574636Z",
     "iopub.status.idle": "2023-10-09T19:05:03.589044Z",
     "shell.execute_reply": "2023-10-09T19:05:03.588195Z"
    },
    "papermill": {
     "duration": 0.037717,
     "end_time": "2023-10-09T19:05:03.591329",
     "exception": false,
     "start_time": "2023-10-09T19:05:03.553612",
     "status": "completed"
    },
    "tags": []
   },
   "outputs": [],
   "source": [
    "ss = StandardScaler()\n",
    "train[nums] = ss.fit_transform(train[nums])\n",
    "test[nums] = ss.fit_transform(test[nums])"
   ]
  },
  {
   "cell_type": "markdown",
   "id": "210f752c",
   "metadata": {
    "papermill": {
     "duration": 0.020621,
     "end_time": "2023-10-09T19:05:03.631592",
     "exception": false,
     "start_time": "2023-10-09T19:05:03.610971",
     "status": "completed"
    },
    "tags": []
   },
   "source": [
    "# Machine Learning"
   ]
  },
  {
   "cell_type": "code",
   "execution_count": 35,
   "id": "4880b695",
   "metadata": {
    "execution": {
     "iopub.execute_input": "2023-10-09T19:05:03.672838Z",
     "iopub.status.busy": "2023-10-09T19:05:03.672145Z",
     "iopub.status.idle": "2023-10-09T19:05:04.222988Z",
     "shell.execute_reply": "2023-10-09T19:05:04.221891Z"
    },
    "papermill": {
     "duration": 0.576312,
     "end_time": "2023-10-09T19:05:04.227441",
     "exception": false,
     "start_time": "2023-10-09T19:05:03.651129",
     "status": "completed"
    },
    "tags": []
   },
   "outputs": [
    {
     "name": "stdout",
     "output_type": "stream",
     "text": [
      "fold: 0   - Starting ...\n",
      "train auc: 0.7518750700991399 val auc: 0.7465905172182334\n",
      "fold: 1   - Starting ...\n",
      "train auc: 0.7485694177374875 val auc: 0.7529268028712608\n",
      "fold: 2   - Starting ...\n",
      "train auc: 0.7499452997493498 val auc: 0.7493505019884571\n",
      "--------------------------------------------------\n",
      " Model auc:   0.7496226073593171\n"
     ]
    }
   ],
   "source": [
    "score_auc = []\n",
    "\n",
    "oof_lr = np.zeros(len(train))\n",
    "pred_lr = np.zeros(len(test))\n",
    "\n",
    "folds = StratifiedKFold(n_splits=3, shuffle=True, random_state=42)\n",
    "\n",
    "for fold_ , (train_ind, val_ind) in enumerate(folds.split(train, target)):\n",
    "    print('fold:', fold_, '  - Starting ...')\n",
    "    trn_data, val_data = train.iloc[train_ind], train.iloc[val_ind]\n",
    "    y_train, y_val = target.iloc[train_ind], target.iloc[val_ind]\n",
    "    \n",
    "    lr = LogisticRegression(C=0.1, solver='newton-cg',max_iter=100, random_state=2020, class_weight={0: 1, 1:3})\n",
    "    lr.fit(trn_data, y_train)\n",
    "    oof_lr[val_ind] = lr.predict_proba(val_data)[:, 1]\n",
    "    y = lr.predict_proba(trn_data)[:, 1]\n",
    "    print('train auc:' , roc_auc_score(y_train, y),'val auc:' , roc_auc_score(y_val, oof_lr[val_ind]))\n",
    "    \n",
    "    score_auc.append(roc_auc_score(y_val, oof_lr[val_ind]))\n",
    "    pred_lr += lr.predict_proba(test)[:, 1]/folds.n_splits\n",
    "    \n",
    "print('-'*50)\n",
    "print(' Model auc:  ', np.mean(score_auc))"
   ]
  },
  {
   "cell_type": "code",
   "execution_count": 36,
   "id": "413fd306",
   "metadata": {
    "execution": {
     "iopub.execute_input": "2023-10-09T19:05:04.395142Z",
     "iopub.status.busy": "2023-10-09T19:05:04.394136Z",
     "iopub.status.idle": "2023-10-09T19:05:04.765488Z",
     "shell.execute_reply": "2023-10-09T19:05:04.763995Z"
    },
    "papermill": {
     "duration": 0.397821,
     "end_time": "2023-10-09T19:05:04.769463",
     "exception": false,
     "start_time": "2023-10-09T19:05:04.371642",
     "status": "completed"
    },
    "tags": []
   },
   "outputs": [
    {
     "name": "stdout",
     "output_type": "stream",
     "text": [
      "fold: 0   - Starting ...\n",
      "train auc: 0.6824049282306284\n",
      "val auc: 0.674879685290472\n",
      "fold: 1   - Starting ...\n",
      "train auc: 0.6842803687528868\n",
      "val auc: 0.6837723535128404\n",
      "fold: 2   - Starting ...\n",
      "train auc: 0.6784523199993595\n",
      "val auc: 0.6823025002411252\n",
      "fold: 3   - Starting ...\n",
      "train auc: 0.6843027432615811\n",
      "val auc: 0.6805549082859411\n",
      "fold: 4   - Starting ...\n",
      "train auc: 0.680065898588901\n",
      "val auc: 0.6779210873158619\n",
      "--------------------------------------------------\n",
      " Model auc:   0.6798861069292481\n"
     ]
    }
   ],
   "source": [
    "score_auc = []\n",
    "\n",
    "oof_qd = np.zeros(len(train))\n",
    "pred_qd = np.zeros(len(test))\n",
    "\n",
    "folds = StratifiedKFold(n_splits=5, shuffle=True, random_state=42)\n",
    "\n",
    "for fold_ , (train_ind, val_ind) in enumerate(folds.split(train, target)):\n",
    "    print('fold:', fold_, '  - Starting ...')\n",
    "    trn_data, val_data = train.iloc[train_ind], train.iloc[val_ind]\n",
    "    y_train, y_val = target[train_ind], target[val_ind]\n",
    "    \n",
    "    qd =   QuadraticDiscriminantAnalysis()\n",
    "    qd.fit(trn_data, y_train)\n",
    "    oof_qd[val_ind] = qd.predict(val_data)\n",
    "    y = qd.predict(trn_data)\n",
    "    print('train auc:' , roc_auc_score(y_train, y))\n",
    "    \n",
    "    print('val auc:' , roc_auc_score(y_val, oof_qd[val_ind]))\n",
    "       \n",
    "    score_auc.append(roc_auc_score(y_val, oof_qd[val_ind]))\n",
    "                            \n",
    "    pred_qd += qd.predict(test)/folds.n_splits\n",
    "    \n",
    "print('-'*50)\n",
    "print(' Model auc:  ', np.mean(score_auc))"
   ]
  },
  {
   "cell_type": "markdown",
   "id": "6888e569",
   "metadata": {
    "papermill": {
     "duration": 0.020118,
     "end_time": "2023-10-09T19:05:04.933920",
     "exception": false,
     "start_time": "2023-10-09T19:05:04.913802",
     "status": "completed"
    },
    "tags": []
   },
   "source": [
    "## OHE"
   ]
  },
  {
   "cell_type": "code",
   "execution_count": 38,
   "id": "c8a546b5",
   "metadata": {
    "execution": {
     "iopub.execute_input": "2023-10-09T19:05:04.976238Z",
     "iopub.status.busy": "2023-10-09T19:05:04.975029Z",
     "iopub.status.idle": "2023-10-09T19:05:05.062249Z",
     "shell.execute_reply": "2023-10-09T19:05:05.061377Z"
    },
    "papermill": {
     "duration": 0.110873,
     "end_time": "2023-10-09T19:05:05.064704",
     "exception": false,
     "start_time": "2023-10-09T19:05:04.953831",
     "status": "completed"
    },
    "tags": []
   },
   "outputs": [],
   "source": [
    "train = tr_orig.copy()\n",
    "test = ts_orig.copy()\n",
    "\n",
    "\n",
    "target = train.pop('target')\n",
    "del train['enrollee_id']\n",
    "del test['enrollee_id']\n",
    "\n",
    "train.fillna('UnKnown', inplace=True)\n",
    "test.fillna('UnKnown', inplace=True)\n",
    "\n",
    "\n",
    "\n",
    "data = pd.concat([train, test], axis=0)\n",
    "data = pd.get_dummies(data)\n",
    "train = data.iloc[:len(train), ]\n",
    "test = data.iloc[:len(test), ]"
   ]
  },
  {
   "cell_type": "code",
   "execution_count": 39,
   "id": "c1470ebf",
   "metadata": {
    "execution": {
     "iopub.execute_input": "2023-10-09T19:05:05.107737Z",
     "iopub.status.busy": "2023-10-09T19:05:05.106605Z",
     "iopub.status.idle": "2023-10-09T19:05:05.133054Z",
     "shell.execute_reply": "2023-10-09T19:05:05.131961Z"
    },
    "papermill": {
     "duration": 0.050008,
     "end_time": "2023-10-09T19:05:05.135423",
     "exception": false,
     "start_time": "2023-10-09T19:05:05.085415",
     "status": "completed"
    },
    "tags": []
   },
   "outputs": [
    {
     "data": {
      "text/html": [
       "<div>\n",
       "<style scoped>\n",
       "    .dataframe tbody tr th:only-of-type {\n",
       "        vertical-align: middle;\n",
       "    }\n",
       "\n",
       "    .dataframe tbody tr th {\n",
       "        vertical-align: top;\n",
       "    }\n",
       "\n",
       "    .dataframe thead th {\n",
       "        text-align: right;\n",
       "    }\n",
       "</style>\n",
       "<table border=\"1\" class=\"dataframe\">\n",
       "  <thead>\n",
       "    <tr style=\"text-align: right;\">\n",
       "      <th></th>\n",
       "      <th>city_development_index</th>\n",
       "      <th>training_hours</th>\n",
       "      <th>city_nom_city_1</th>\n",
       "      <th>city_nom_city_10</th>\n",
       "      <th>city_nom_city_100</th>\n",
       "      <th>city_nom_city_101</th>\n",
       "      <th>city_nom_city_102</th>\n",
       "      <th>city_nom_city_103</th>\n",
       "      <th>city_nom_city_104</th>\n",
       "      <th>city_nom_city_105</th>\n",
       "      <th>...</th>\n",
       "      <th>company_type_nom_Public Sector</th>\n",
       "      <th>company_type_nom_Pvt Ltd</th>\n",
       "      <th>company_type_nom_UnKnown</th>\n",
       "      <th>last_new_job_ord_1</th>\n",
       "      <th>last_new_job_ord_2</th>\n",
       "      <th>last_new_job_ord_3</th>\n",
       "      <th>last_new_job_ord_4</th>\n",
       "      <th>last_new_job_ord_&gt;4</th>\n",
       "      <th>last_new_job_ord_UnKnown</th>\n",
       "      <th>last_new_job_ord_never</th>\n",
       "    </tr>\n",
       "  </thead>\n",
       "  <tbody>\n",
       "    <tr>\n",
       "      <th>0</th>\n",
       "      <td>0.920</td>\n",
       "      <td>36</td>\n",
       "      <td>0</td>\n",
       "      <td>0</td>\n",
       "      <td>0</td>\n",
       "      <td>0</td>\n",
       "      <td>0</td>\n",
       "      <td>1</td>\n",
       "      <td>0</td>\n",
       "      <td>0</td>\n",
       "      <td>...</td>\n",
       "      <td>0</td>\n",
       "      <td>0</td>\n",
       "      <td>1</td>\n",
       "      <td>1</td>\n",
       "      <td>0</td>\n",
       "      <td>0</td>\n",
       "      <td>0</td>\n",
       "      <td>0</td>\n",
       "      <td>0</td>\n",
       "      <td>0</td>\n",
       "    </tr>\n",
       "    <tr>\n",
       "      <th>1</th>\n",
       "      <td>0.776</td>\n",
       "      <td>47</td>\n",
       "      <td>0</td>\n",
       "      <td>0</td>\n",
       "      <td>0</td>\n",
       "      <td>0</td>\n",
       "      <td>0</td>\n",
       "      <td>0</td>\n",
       "      <td>0</td>\n",
       "      <td>0</td>\n",
       "      <td>...</td>\n",
       "      <td>0</td>\n",
       "      <td>1</td>\n",
       "      <td>0</td>\n",
       "      <td>0</td>\n",
       "      <td>0</td>\n",
       "      <td>0</td>\n",
       "      <td>0</td>\n",
       "      <td>1</td>\n",
       "      <td>0</td>\n",
       "      <td>0</td>\n",
       "    </tr>\n",
       "    <tr>\n",
       "      <th>2</th>\n",
       "      <td>0.624</td>\n",
       "      <td>83</td>\n",
       "      <td>0</td>\n",
       "      <td>0</td>\n",
       "      <td>0</td>\n",
       "      <td>0</td>\n",
       "      <td>0</td>\n",
       "      <td>0</td>\n",
       "      <td>0</td>\n",
       "      <td>0</td>\n",
       "      <td>...</td>\n",
       "      <td>0</td>\n",
       "      <td>0</td>\n",
       "      <td>1</td>\n",
       "      <td>0</td>\n",
       "      <td>0</td>\n",
       "      <td>0</td>\n",
       "      <td>0</td>\n",
       "      <td>0</td>\n",
       "      <td>0</td>\n",
       "      <td>1</td>\n",
       "    </tr>\n",
       "    <tr>\n",
       "      <th>3</th>\n",
       "      <td>0.789</td>\n",
       "      <td>52</td>\n",
       "      <td>0</td>\n",
       "      <td>0</td>\n",
       "      <td>0</td>\n",
       "      <td>0</td>\n",
       "      <td>0</td>\n",
       "      <td>0</td>\n",
       "      <td>0</td>\n",
       "      <td>0</td>\n",
       "      <td>...</td>\n",
       "      <td>0</td>\n",
       "      <td>1</td>\n",
       "      <td>0</td>\n",
       "      <td>0</td>\n",
       "      <td>0</td>\n",
       "      <td>0</td>\n",
       "      <td>0</td>\n",
       "      <td>0</td>\n",
       "      <td>0</td>\n",
       "      <td>1</td>\n",
       "    </tr>\n",
       "    <tr>\n",
       "      <th>4</th>\n",
       "      <td>0.767</td>\n",
       "      <td>8</td>\n",
       "      <td>0</td>\n",
       "      <td>0</td>\n",
       "      <td>0</td>\n",
       "      <td>0</td>\n",
       "      <td>0</td>\n",
       "      <td>0</td>\n",
       "      <td>0</td>\n",
       "      <td>0</td>\n",
       "      <td>...</td>\n",
       "      <td>0</td>\n",
       "      <td>0</td>\n",
       "      <td>0</td>\n",
       "      <td>0</td>\n",
       "      <td>0</td>\n",
       "      <td>0</td>\n",
       "      <td>1</td>\n",
       "      <td>0</td>\n",
       "      <td>0</td>\n",
       "      <td>0</td>\n",
       "    </tr>\n",
       "    <tr>\n",
       "      <th>...</th>\n",
       "      <td>...</td>\n",
       "      <td>...</td>\n",
       "      <td>...</td>\n",
       "      <td>...</td>\n",
       "      <td>...</td>\n",
       "      <td>...</td>\n",
       "      <td>...</td>\n",
       "      <td>...</td>\n",
       "      <td>...</td>\n",
       "      <td>...</td>\n",
       "      <td>...</td>\n",
       "      <td>...</td>\n",
       "      <td>...</td>\n",
       "      <td>...</td>\n",
       "      <td>...</td>\n",
       "      <td>...</td>\n",
       "      <td>...</td>\n",
       "      <td>...</td>\n",
       "      <td>...</td>\n",
       "      <td>...</td>\n",
       "      <td>...</td>\n",
       "    </tr>\n",
       "    <tr>\n",
       "      <th>2124</th>\n",
       "      <td>0.920</td>\n",
       "      <td>15</td>\n",
       "      <td>0</td>\n",
       "      <td>0</td>\n",
       "      <td>0</td>\n",
       "      <td>0</td>\n",
       "      <td>0</td>\n",
       "      <td>1</td>\n",
       "      <td>0</td>\n",
       "      <td>0</td>\n",
       "      <td>...</td>\n",
       "      <td>1</td>\n",
       "      <td>0</td>\n",
       "      <td>0</td>\n",
       "      <td>0</td>\n",
       "      <td>0</td>\n",
       "      <td>0</td>\n",
       "      <td>1</td>\n",
       "      <td>0</td>\n",
       "      <td>0</td>\n",
       "      <td>0</td>\n",
       "    </tr>\n",
       "    <tr>\n",
       "      <th>2125</th>\n",
       "      <td>0.897</td>\n",
       "      <td>30</td>\n",
       "      <td>0</td>\n",
       "      <td>0</td>\n",
       "      <td>0</td>\n",
       "      <td>0</td>\n",
       "      <td>0</td>\n",
       "      <td>0</td>\n",
       "      <td>0</td>\n",
       "      <td>0</td>\n",
       "      <td>...</td>\n",
       "      <td>0</td>\n",
       "      <td>0</td>\n",
       "      <td>1</td>\n",
       "      <td>0</td>\n",
       "      <td>1</td>\n",
       "      <td>0</td>\n",
       "      <td>0</td>\n",
       "      <td>0</td>\n",
       "      <td>0</td>\n",
       "      <td>0</td>\n",
       "    </tr>\n",
       "    <tr>\n",
       "      <th>2126</th>\n",
       "      <td>0.887</td>\n",
       "      <td>18</td>\n",
       "      <td>0</td>\n",
       "      <td>0</td>\n",
       "      <td>1</td>\n",
       "      <td>0</td>\n",
       "      <td>0</td>\n",
       "      <td>0</td>\n",
       "      <td>0</td>\n",
       "      <td>0</td>\n",
       "      <td>...</td>\n",
       "      <td>0</td>\n",
       "      <td>1</td>\n",
       "      <td>0</td>\n",
       "      <td>0</td>\n",
       "      <td>0</td>\n",
       "      <td>0</td>\n",
       "      <td>0</td>\n",
       "      <td>0</td>\n",
       "      <td>0</td>\n",
       "      <td>1</td>\n",
       "    </tr>\n",
       "    <tr>\n",
       "      <th>2127</th>\n",
       "      <td>0.804</td>\n",
       "      <td>84</td>\n",
       "      <td>0</td>\n",
       "      <td>0</td>\n",
       "      <td>0</td>\n",
       "      <td>0</td>\n",
       "      <td>1</td>\n",
       "      <td>0</td>\n",
       "      <td>0</td>\n",
       "      <td>0</td>\n",
       "      <td>...</td>\n",
       "      <td>1</td>\n",
       "      <td>0</td>\n",
       "      <td>0</td>\n",
       "      <td>1</td>\n",
       "      <td>0</td>\n",
       "      <td>0</td>\n",
       "      <td>0</td>\n",
       "      <td>0</td>\n",
       "      <td>0</td>\n",
       "      <td>0</td>\n",
       "    </tr>\n",
       "    <tr>\n",
       "      <th>2128</th>\n",
       "      <td>0.804</td>\n",
       "      <td>11</td>\n",
       "      <td>0</td>\n",
       "      <td>0</td>\n",
       "      <td>0</td>\n",
       "      <td>0</td>\n",
       "      <td>1</td>\n",
       "      <td>0</td>\n",
       "      <td>0</td>\n",
       "      <td>0</td>\n",
       "      <td>...</td>\n",
       "      <td>0</td>\n",
       "      <td>1</td>\n",
       "      <td>0</td>\n",
       "      <td>0</td>\n",
       "      <td>1</td>\n",
       "      <td>0</td>\n",
       "      <td>0</td>\n",
       "      <td>0</td>\n",
       "      <td>0</td>\n",
       "      <td>0</td>\n",
       "    </tr>\n",
       "  </tbody>\n",
       "</table>\n",
       "<p>21287 rows × 194 columns</p>\n",
       "</div>"
      ],
      "text/plain": [
       "      city_development_index  training_hours  city_nom_city_1  \\\n",
       "0                      0.920              36                0   \n",
       "1                      0.776              47                0   \n",
       "2                      0.624              83                0   \n",
       "3                      0.789              52                0   \n",
       "4                      0.767               8                0   \n",
       "...                      ...             ...              ...   \n",
       "2124                   0.920              15                0   \n",
       "2125                   0.897              30                0   \n",
       "2126                   0.887              18                0   \n",
       "2127                   0.804              84                0   \n",
       "2128                   0.804              11                0   \n",
       "\n",
       "      city_nom_city_10  city_nom_city_100  city_nom_city_101  \\\n",
       "0                    0                  0                  0   \n",
       "1                    0                  0                  0   \n",
       "2                    0                  0                  0   \n",
       "3                    0                  0                  0   \n",
       "4                    0                  0                  0   \n",
       "...                ...                ...                ...   \n",
       "2124                 0                  0                  0   \n",
       "2125                 0                  0                  0   \n",
       "2126                 0                  1                  0   \n",
       "2127                 0                  0                  0   \n",
       "2128                 0                  0                  0   \n",
       "\n",
       "      city_nom_city_102  city_nom_city_103  city_nom_city_104  \\\n",
       "0                     0                  1                  0   \n",
       "1                     0                  0                  0   \n",
       "2                     0                  0                  0   \n",
       "3                     0                  0                  0   \n",
       "4                     0                  0                  0   \n",
       "...                 ...                ...                ...   \n",
       "2124                  0                  1                  0   \n",
       "2125                  0                  0                  0   \n",
       "2126                  0                  0                  0   \n",
       "2127                  1                  0                  0   \n",
       "2128                  1                  0                  0   \n",
       "\n",
       "      city_nom_city_105  ...  company_type_nom_Public Sector  \\\n",
       "0                     0  ...                               0   \n",
       "1                     0  ...                               0   \n",
       "2                     0  ...                               0   \n",
       "3                     0  ...                               0   \n",
       "4                     0  ...                               0   \n",
       "...                 ...  ...                             ...   \n",
       "2124                  0  ...                               1   \n",
       "2125                  0  ...                               0   \n",
       "2126                  0  ...                               0   \n",
       "2127                  0  ...                               1   \n",
       "2128                  0  ...                               0   \n",
       "\n",
       "      company_type_nom_Pvt Ltd  company_type_nom_UnKnown  last_new_job_ord_1  \\\n",
       "0                            0                         1                   1   \n",
       "1                            1                         0                   0   \n",
       "2                            0                         1                   0   \n",
       "3                            1                         0                   0   \n",
       "4                            0                         0                   0   \n",
       "...                        ...                       ...                 ...   \n",
       "2124                         0                         0                   0   \n",
       "2125                         0                         1                   0   \n",
       "2126                         1                         0                   0   \n",
       "2127                         0                         0                   1   \n",
       "2128                         1                         0                   0   \n",
       "\n",
       "      last_new_job_ord_2  last_new_job_ord_3  last_new_job_ord_4  \\\n",
       "0                      0                   0                   0   \n",
       "1                      0                   0                   0   \n",
       "2                      0                   0                   0   \n",
       "3                      0                   0                   0   \n",
       "4                      0                   0                   1   \n",
       "...                  ...                 ...                 ...   \n",
       "2124                   0                   0                   1   \n",
       "2125                   1                   0                   0   \n",
       "2126                   0                   0                   0   \n",
       "2127                   0                   0                   0   \n",
       "2128                   1                   0                   0   \n",
       "\n",
       "      last_new_job_ord_>4  last_new_job_ord_UnKnown  last_new_job_ord_never  \n",
       "0                       0                         0                       0  \n",
       "1                       1                         0                       0  \n",
       "2                       0                         0                       1  \n",
       "3                       0                         0                       1  \n",
       "4                       0                         0                       0  \n",
       "...                   ...                       ...                     ...  \n",
       "2124                    0                         0                       0  \n",
       "2125                    0                         0                       0  \n",
       "2126                    0                         0                       1  \n",
       "2127                    0                         0                       0  \n",
       "2128                    0                         0                       0  \n",
       "\n",
       "[21287 rows x 194 columns]"
      ]
     },
     "execution_count": 39,
     "metadata": {},
     "output_type": "execute_result"
    }
   ],
   "source": [
    "data"
   ]
  },
  {
   "cell_type": "code",
   "execution_count": 40,
   "id": "2ead294a",
   "metadata": {
    "execution": {
     "iopub.execute_input": "2023-10-09T19:05:05.179372Z",
     "iopub.status.busy": "2023-10-09T19:05:05.178208Z",
     "iopub.status.idle": "2023-10-09T19:05:05.203448Z",
     "shell.execute_reply": "2023-10-09T19:05:05.202318Z"
    },
    "papermill": {
     "duration": 0.04985,
     "end_time": "2023-10-09T19:05:05.205798",
     "exception": false,
     "start_time": "2023-10-09T19:05:05.155948",
     "status": "completed"
    },
    "tags": []
   },
   "outputs": [
    {
     "name": "stdout",
     "output_type": "stream",
     "text": [
      "Series([], dtype: int64)\n"
     ]
    },
    {
     "data": {
      "text/html": [
       "<div>\n",
       "<style scoped>\n",
       "    .dataframe tbody tr th:only-of-type {\n",
       "        vertical-align: middle;\n",
       "    }\n",
       "\n",
       "    .dataframe tbody tr th {\n",
       "        vertical-align: top;\n",
       "    }\n",
       "\n",
       "    .dataframe thead th {\n",
       "        text-align: right;\n",
       "    }\n",
       "</style>\n",
       "<table border=\"1\" class=\"dataframe\">\n",
       "  <thead>\n",
       "    <tr style=\"text-align: right;\">\n",
       "      <th></th>\n",
       "      <th>city_development_index</th>\n",
       "      <th>training_hours</th>\n",
       "      <th>city_nom_city_1</th>\n",
       "      <th>city_nom_city_10</th>\n",
       "      <th>city_nom_city_100</th>\n",
       "      <th>city_nom_city_101</th>\n",
       "      <th>city_nom_city_102</th>\n",
       "      <th>city_nom_city_103</th>\n",
       "      <th>city_nom_city_104</th>\n",
       "      <th>city_nom_city_105</th>\n",
       "      <th>...</th>\n",
       "      <th>company_type_nom_Public Sector</th>\n",
       "      <th>company_type_nom_Pvt Ltd</th>\n",
       "      <th>company_type_nom_UnKnown</th>\n",
       "      <th>last_new_job_ord_1</th>\n",
       "      <th>last_new_job_ord_2</th>\n",
       "      <th>last_new_job_ord_3</th>\n",
       "      <th>last_new_job_ord_4</th>\n",
       "      <th>last_new_job_ord_&gt;4</th>\n",
       "      <th>last_new_job_ord_UnKnown</th>\n",
       "      <th>last_new_job_ord_never</th>\n",
       "    </tr>\n",
       "  </thead>\n",
       "  <tbody>\n",
       "    <tr>\n",
       "      <th>0</th>\n",
       "      <td>0.920</td>\n",
       "      <td>36</td>\n",
       "      <td>0</td>\n",
       "      <td>0</td>\n",
       "      <td>0</td>\n",
       "      <td>0</td>\n",
       "      <td>0</td>\n",
       "      <td>1</td>\n",
       "      <td>0</td>\n",
       "      <td>0</td>\n",
       "      <td>...</td>\n",
       "      <td>0</td>\n",
       "      <td>0</td>\n",
       "      <td>1</td>\n",
       "      <td>1</td>\n",
       "      <td>0</td>\n",
       "      <td>0</td>\n",
       "      <td>0</td>\n",
       "      <td>0</td>\n",
       "      <td>0</td>\n",
       "      <td>0</td>\n",
       "    </tr>\n",
       "    <tr>\n",
       "      <th>1</th>\n",
       "      <td>0.776</td>\n",
       "      <td>47</td>\n",
       "      <td>0</td>\n",
       "      <td>0</td>\n",
       "      <td>0</td>\n",
       "      <td>0</td>\n",
       "      <td>0</td>\n",
       "      <td>0</td>\n",
       "      <td>0</td>\n",
       "      <td>0</td>\n",
       "      <td>...</td>\n",
       "      <td>0</td>\n",
       "      <td>1</td>\n",
       "      <td>0</td>\n",
       "      <td>0</td>\n",
       "      <td>0</td>\n",
       "      <td>0</td>\n",
       "      <td>0</td>\n",
       "      <td>1</td>\n",
       "      <td>0</td>\n",
       "      <td>0</td>\n",
       "    </tr>\n",
       "    <tr>\n",
       "      <th>2</th>\n",
       "      <td>0.624</td>\n",
       "      <td>83</td>\n",
       "      <td>0</td>\n",
       "      <td>0</td>\n",
       "      <td>0</td>\n",
       "      <td>0</td>\n",
       "      <td>0</td>\n",
       "      <td>0</td>\n",
       "      <td>0</td>\n",
       "      <td>0</td>\n",
       "      <td>...</td>\n",
       "      <td>0</td>\n",
       "      <td>0</td>\n",
       "      <td>1</td>\n",
       "      <td>0</td>\n",
       "      <td>0</td>\n",
       "      <td>0</td>\n",
       "      <td>0</td>\n",
       "      <td>0</td>\n",
       "      <td>0</td>\n",
       "      <td>1</td>\n",
       "    </tr>\n",
       "    <tr>\n",
       "      <th>3</th>\n",
       "      <td>0.789</td>\n",
       "      <td>52</td>\n",
       "      <td>0</td>\n",
       "      <td>0</td>\n",
       "      <td>0</td>\n",
       "      <td>0</td>\n",
       "      <td>0</td>\n",
       "      <td>0</td>\n",
       "      <td>0</td>\n",
       "      <td>0</td>\n",
       "      <td>...</td>\n",
       "      <td>0</td>\n",
       "      <td>1</td>\n",
       "      <td>0</td>\n",
       "      <td>0</td>\n",
       "      <td>0</td>\n",
       "      <td>0</td>\n",
       "      <td>0</td>\n",
       "      <td>0</td>\n",
       "      <td>0</td>\n",
       "      <td>1</td>\n",
       "    </tr>\n",
       "    <tr>\n",
       "      <th>4</th>\n",
       "      <td>0.767</td>\n",
       "      <td>8</td>\n",
       "      <td>0</td>\n",
       "      <td>0</td>\n",
       "      <td>0</td>\n",
       "      <td>0</td>\n",
       "      <td>0</td>\n",
       "      <td>0</td>\n",
       "      <td>0</td>\n",
       "      <td>0</td>\n",
       "      <td>...</td>\n",
       "      <td>0</td>\n",
       "      <td>0</td>\n",
       "      <td>0</td>\n",
       "      <td>0</td>\n",
       "      <td>0</td>\n",
       "      <td>0</td>\n",
       "      <td>1</td>\n",
       "      <td>0</td>\n",
       "      <td>0</td>\n",
       "      <td>0</td>\n",
       "    </tr>\n",
       "  </tbody>\n",
       "</table>\n",
       "<p>5 rows × 194 columns</p>\n",
       "</div>"
      ],
      "text/plain": [
       "   city_development_index  training_hours  city_nom_city_1  city_nom_city_10  \\\n",
       "0                   0.920              36                0                 0   \n",
       "1                   0.776              47                0                 0   \n",
       "2                   0.624              83                0                 0   \n",
       "3                   0.789              52                0                 0   \n",
       "4                   0.767               8                0                 0   \n",
       "\n",
       "   city_nom_city_100  city_nom_city_101  city_nom_city_102  city_nom_city_103  \\\n",
       "0                  0                  0                  0                  1   \n",
       "1                  0                  0                  0                  0   \n",
       "2                  0                  0                  0                  0   \n",
       "3                  0                  0                  0                  0   \n",
       "4                  0                  0                  0                  0   \n",
       "\n",
       "   city_nom_city_104  city_nom_city_105  ...  company_type_nom_Public Sector  \\\n",
       "0                  0                  0  ...                               0   \n",
       "1                  0                  0  ...                               0   \n",
       "2                  0                  0  ...                               0   \n",
       "3                  0                  0  ...                               0   \n",
       "4                  0                  0  ...                               0   \n",
       "\n",
       "   company_type_nom_Pvt Ltd  company_type_nom_UnKnown  last_new_job_ord_1  \\\n",
       "0                         0                         1                   1   \n",
       "1                         1                         0                   0   \n",
       "2                         0                         1                   0   \n",
       "3                         1                         0                   0   \n",
       "4                         0                         0                   0   \n",
       "\n",
       "   last_new_job_ord_2  last_new_job_ord_3  last_new_job_ord_4  \\\n",
       "0                   0                   0                   0   \n",
       "1                   0                   0                   0   \n",
       "2                   0                   0                   0   \n",
       "3                   0                   0                   0   \n",
       "4                   0                   0                   1   \n",
       "\n",
       "   last_new_job_ord_>4  last_new_job_ord_UnKnown  last_new_job_ord_never  \n",
       "0                    0                         0                       0  \n",
       "1                    1                         0                       0  \n",
       "2                    0                         0                       1  \n",
       "3                    0                         0                       1  \n",
       "4                    0                         0                       0  \n",
       "\n",
       "[5 rows x 194 columns]"
      ]
     },
     "execution_count": 40,
     "metadata": {},
     "output_type": "execute_result"
    }
   ],
   "source": [
    "missing = test.isnull().sum()\n",
    "print(missing[missing>0])\n",
    "\n",
    "train.head()"
   ]
  },
  {
   "cell_type": "code",
   "execution_count": 41,
   "id": "a39014d5",
   "metadata": {
    "execution": {
     "iopub.execute_input": "2023-10-09T19:05:05.249764Z",
     "iopub.status.busy": "2023-10-09T19:05:05.249095Z",
     "iopub.status.idle": "2023-10-09T19:05:05.254950Z",
     "shell.execute_reply": "2023-10-09T19:05:05.253763Z"
    },
    "papermill": {
     "duration": 0.030378,
     "end_time": "2023-10-09T19:05:05.257000",
     "exception": false,
     "start_time": "2023-10-09T19:05:05.226622",
     "status": "completed"
    },
    "tags": []
   },
   "outputs": [
    {
     "name": "stdout",
     "output_type": "stream",
     "text": [
      "(19158, 194) (2129, 194)\n"
     ]
    }
   ],
   "source": [
    "print(train.shape, test.shape)"
   ]
  },
  {
   "cell_type": "markdown",
   "id": "391d47f2",
   "metadata": {
    "papermill": {
     "duration": 0.020933,
     "end_time": "2023-10-09T19:05:05.299322",
     "exception": false,
     "start_time": "2023-10-09T19:05:05.278389",
     "status": "completed"
    },
    "tags": []
   },
   "source": [
    "## LinearSVC"
   ]
  },
  {
   "cell_type": "code",
   "execution_count": 42,
   "id": "c7e0e12d",
   "metadata": {
    "execution": {
     "iopub.execute_input": "2023-10-09T19:05:05.344850Z",
     "iopub.status.busy": "2023-10-09T19:05:05.344174Z",
     "iopub.status.idle": "2023-10-09T19:05:08.419144Z",
     "shell.execute_reply": "2023-10-09T19:05:08.417651Z"
    },
    "papermill": {
     "duration": 3.103796,
     "end_time": "2023-10-09T19:05:08.424894",
     "exception": false,
     "start_time": "2023-10-09T19:05:05.321098",
     "status": "completed"
    },
    "tags": []
   },
   "outputs": [
    {
     "name": "stdout",
     "output_type": "stream",
     "text": [
      "fold: 0   - Starting ...\n",
      "train auc: 0.5172872962053183\n",
      "val auc: 0.5130854976402606\n",
      "fold: 1   - Starting ...\n",
      "train auc: 0.515933845769411\n",
      "val auc: 0.5151775478494656\n",
      "fold: 2   - Starting ...\n",
      "train auc: 0.5147075774248933\n",
      "val auc: 0.5195629900983973\n",
      "fold: 3   - Starting ...\n",
      "train auc: 0.516802809781018\n",
      "val auc: 0.5132728702604694\n",
      "fold: 4   - Starting ...\n",
      "train auc: 0.5150985818056035\n",
      "val auc: 0.5148535633405907\n",
      "--------------------------------------------------\n",
      " Model auc:   0.5151904938378367\n"
     ]
    }
   ],
   "source": [
    "score_auc = []\n",
    "\n",
    "oof_svm = np.zeros(len(train))\n",
    "pred_svm = np.zeros(len(test))\n",
    "\n",
    "folds = StratifiedKFold(n_splits=5, shuffle=True, random_state=42)\n",
    "\n",
    "for fold_ , (train_ind, val_ind) in enumerate(folds.split(train, target)):\n",
    "    print('fold:', fold_, '  - Starting ...')\n",
    "    trn_data, val_data = train.iloc[train_ind], train.iloc[val_ind]\n",
    "    y_train, y_val = target[train_ind], target[val_ind]\n",
    "    \n",
    "    lsvm =   LinearSVC(C=.0001, random_state=2020)\n",
    "    lsvm.fit(trn_data, y_train)\n",
    "    oof_svm[val_ind] = lsvm.predict(val_data)\n",
    "    y = lsvm.predict(trn_data)\n",
    "    print('train auc:' , roc_auc_score(y_train, y))\n",
    "    \n",
    "    print('val auc:' , roc_auc_score(y_val, oof_svm[val_ind]))\n",
    "    score_auc.append(roc_auc_score(y_val, oof_svm[val_ind]))\n",
    "                           \n",
    "    pred_svm += lsvm.predict(test)/folds.n_splits\n",
    "    \n",
    "print('-'*50)\n",
    "print(' Model auc:  ', np.mean(score_auc))"
   ]
  },
  {
   "cell_type": "markdown",
   "id": "1cd3cbe7",
   "metadata": {
    "papermill": {
     "duration": 0.021826,
     "end_time": "2023-10-09T19:05:08.600205",
     "exception": false,
     "start_time": "2023-10-09T19:05:08.578379",
     "status": "completed"
    },
    "tags": []
   },
   "source": [
    "## Frequency Encoding"
   ]
  },
  {
   "cell_type": "code",
   "execution_count": 44,
   "id": "63db438f",
   "metadata": {
    "execution": {
     "iopub.execute_input": "2023-10-09T19:05:08.645429Z",
     "iopub.status.busy": "2023-10-09T19:05:08.644782Z",
     "iopub.status.idle": "2023-10-09T19:05:08.652586Z",
     "shell.execute_reply": "2023-10-09T19:05:08.651652Z"
    },
    "papermill": {
     "duration": 0.032513,
     "end_time": "2023-10-09T19:05:08.654436",
     "exception": false,
     "start_time": "2023-10-09T19:05:08.621923",
     "status": "completed"
    },
    "tags": []
   },
   "outputs": [],
   "source": [
    "train = tr_orig.copy()\n",
    "test = ts_orig.copy()\n",
    "\n",
    "target = train.pop('target')\n",
    "del train['enrollee_id']\n",
    "del test['enrollee_id']"
   ]
  },
  {
   "cell_type": "code",
   "execution_count": 45,
   "id": "c06f9516",
   "metadata": {
    "execution": {
     "iopub.execute_input": "2023-10-09T19:05:08.699673Z",
     "iopub.status.busy": "2023-10-09T19:05:08.699287Z",
     "iopub.status.idle": "2023-10-09T19:05:08.785871Z",
     "shell.execute_reply": "2023-10-09T19:05:08.784795Z"
    },
    "papermill": {
     "duration": 0.111987,
     "end_time": "2023-10-09T19:05:08.788042",
     "exception": false,
     "start_time": "2023-10-09T19:05:08.676055",
     "status": "completed"
    },
    "tags": []
   },
   "outputs": [
    {
     "data": {
      "text/plain": [
       "((19158, 22), (2129, 22))"
      ]
     },
     "execution_count": 45,
     "metadata": {},
     "output_type": "execute_result"
    }
   ],
   "source": [
    "daset = pd.concat([train, test], axis=0)\n",
    "\n",
    "\n",
    "for c in (cats):\n",
    "    daset[c+'_freq'] = daset[c].map(daset.groupby(c).size() / daset.shape[0])\n",
    "    indexer = pd.factorize(daset[c], sort=True)[1]\n",
    "    daset[c] = indexer.get_indexer(daset[c])\n",
    "\n",
    "train= daset.iloc[:len(train) , ]\n",
    "test= daset.iloc[len(train): , ]\n",
    "cols=train.columns\n",
    "train.shape, test.shape"
   ]
  },
  {
   "cell_type": "code",
   "execution_count": 46,
   "id": "7641d4c2",
   "metadata": {
    "execution": {
     "iopub.execute_input": "2023-10-09T19:05:08.832847Z",
     "iopub.status.busy": "2023-10-09T19:05:08.832497Z",
     "iopub.status.idle": "2023-10-09T19:05:08.842602Z",
     "shell.execute_reply": "2023-10-09T19:05:08.841703Z"
    },
    "papermill": {
     "duration": 0.035014,
     "end_time": "2023-10-09T19:05:08.844579",
     "exception": false,
     "start_time": "2023-10-09T19:05:08.809565",
     "status": "completed"
    },
    "tags": []
   },
   "outputs": [
    {
     "data": {
      "text/plain": [
       "city_nom                           0\n",
       "city_development_index             0\n",
       "gender_nom                         0\n",
       "relevent_experience_nom            0\n",
       "enrolled_university_nom            0\n",
       "education_level_ord                0\n",
       "major_discipline_nom               0\n",
       "experience_ord                     0\n",
       "company_size_ord                   0\n",
       "company_type_nom                   0\n",
       "last_new_job_ord                   0\n",
       "training_hours                     0\n",
       "education_level_ord_freq         460\n",
       "experience_ord_freq               65\n",
       "company_size_ord_freq           5938\n",
       "last_new_job_ord_freq            423\n",
       "city_nom_freq                      0\n",
       "gender_nom_freq                 4508\n",
       "relevent_experience_nom_freq       0\n",
       "enrolled_university_nom_freq     386\n",
       "major_discipline_nom_freq       2813\n",
       "company_type_nom_freq           6140\n",
       "dtype: int64"
      ]
     },
     "execution_count": 46,
     "metadata": {},
     "output_type": "execute_result"
    }
   ],
   "source": [
    "train.isnull().sum()"
   ]
  },
  {
   "cell_type": "code",
   "execution_count": 47,
   "id": "2704a266",
   "metadata": {
    "execution": {
     "iopub.execute_input": "2023-10-09T19:05:08.891380Z",
     "iopub.status.busy": "2023-10-09T19:05:08.890727Z",
     "iopub.status.idle": "2023-10-09T19:05:08.913941Z",
     "shell.execute_reply": "2023-10-09T19:05:08.913139Z"
    },
    "papermill": {
     "duration": 0.049317,
     "end_time": "2023-10-09T19:05:08.916163",
     "exception": false,
     "start_time": "2023-10-09T19:05:08.866846",
     "status": "completed"
    },
    "tags": []
   },
   "outputs": [],
   "source": [
    "imp = SimpleImputer(strategy='constant')\n",
    "train = imp.fit_transform(train)\n",
    "test  = imp.transform(test)\n",
    "\n",
    "ss = StandardScaler()\n",
    "train = ss.fit_transform(train)\n",
    "test  = ss.transform(test)"
   ]
  },
  {
   "cell_type": "markdown",
   "id": "fb5b2ae0",
   "metadata": {
    "papermill": {
     "duration": 0.021602,
     "end_time": "2023-10-09T19:05:08.960032",
     "exception": false,
     "start_time": "2023-10-09T19:05:08.938430",
     "status": "completed"
    },
    "tags": []
   },
   "source": [
    "## LogisticRegression"
   ]
  },
  {
   "cell_type": "code",
   "execution_count": 48,
   "id": "6e47be34",
   "metadata": {
    "execution": {
     "iopub.execute_input": "2023-10-09T19:05:09.006138Z",
     "iopub.status.busy": "2023-10-09T19:05:09.005524Z",
     "iopub.status.idle": "2023-10-09T19:05:09.571096Z",
     "shell.execute_reply": "2023-10-09T19:05:09.569808Z"
    },
    "papermill": {
     "duration": 0.609156,
     "end_time": "2023-10-09T19:05:09.591322",
     "exception": false,
     "start_time": "2023-10-09T19:05:08.982166",
     "status": "completed"
    },
    "tags": []
   },
   "outputs": [
    {
     "name": "stdout",
     "output_type": "stream",
     "text": [
      "fold: 0   - Starting ...\n",
      "train auc: 0.7927518439349438\n",
      "val auc: 0.7845561421768957\n",
      "fold: 1   - Starting ...\n",
      "train auc: 0.7908308592270505\n",
      "val auc: 0.7879848895080325\n",
      "fold: 2   - Starting ...\n",
      "train auc: 0.7879599680297054\n",
      "val auc: 0.7930706148598645\n",
      "--------------------------------------------------\n",
      " Model auc:   0.788537215514931\n"
     ]
    }
   ],
   "source": [
    "score_auc = []\n",
    "\n",
    "oof_lr = np.zeros(len(train))\n",
    "pred_lr = np.zeros(len(test))\n",
    "\n",
    "folds = StratifiedKFold(n_splits=3, shuffle=True, random_state=42)\n",
    "\n",
    "for fold_ , (train_ind, val_ind) in enumerate(folds.split(train, target)):\n",
    "    print('fold:', fold_, '  - Starting ...')\n",
    "    trn_data, val_data = train[train_ind], train[val_ind]\n",
    "    y_train, y_val = target.iloc[train_ind], target.iloc[val_ind]\n",
    "    \n",
    "    lr = LogisticRegression(C= 1,max_iter=200, random_state=2020, class_weight={0: 1, 1:3})\n",
    "    lr.fit(trn_data, y_train)\n",
    "    oof_lr[val_ind] = lr.predict_proba(val_data)[:, 1]\n",
    "    y = lr.predict_proba(trn_data)[:, 1]\n",
    "    print('train auc:' , roc_auc_score(y_train, y))\n",
    "    \n",
    "    print('val auc:' , roc_auc_score(y_val, oof_lr[val_ind]))\n",
    "    score_auc.append(roc_auc_score(y_val, oof_lr[val_ind]))\n",
    "    \n",
    "                        \n",
    "    pred_lr += lr.predict_proba(test)[:, 1]/folds.n_splits\n",
    "    \n",
    "print('-'*50)\n",
    "print(' Model auc:  ', np.mean(score_auc))"
   ]
  },
  {
   "cell_type": "markdown",
   "id": "5e13e31f",
   "metadata": {
    "papermill": {
     "duration": 0.025506,
     "end_time": "2023-10-09T19:05:09.792729",
     "exception": false,
     "start_time": "2023-10-09T19:05:09.767223",
     "status": "completed"
    },
    "tags": []
   },
   "source": [
    "# Hash Encoding"
   ]
  },
  {
   "cell_type": "code",
   "execution_count": 50,
   "id": "37e2766e",
   "metadata": {
    "execution": {
     "iopub.execute_input": "2023-10-09T19:05:09.847400Z",
     "iopub.status.busy": "2023-10-09T19:05:09.847009Z",
     "iopub.status.idle": "2023-10-09T19:05:09.856386Z",
     "shell.execute_reply": "2023-10-09T19:05:09.855502Z"
    },
    "papermill": {
     "duration": 0.040917,
     "end_time": "2023-10-09T19:05:09.858570",
     "exception": false,
     "start_time": "2023-10-09T19:05:09.817653",
     "status": "completed"
    },
    "tags": []
   },
   "outputs": [],
   "source": [
    "train = tr_orig.copy()\n",
    "test = ts_orig.copy()\n",
    "\n",
    "target = train.pop('target')\n",
    "del train['enrollee_id']\n",
    "del test['enrollee_id']\n",
    "\n",
    "data = pd.concat([train, test], axis=0)"
   ]
  },
  {
   "cell_type": "code",
   "execution_count": 51,
   "id": "f6be1201",
   "metadata": {
    "execution": {
     "iopub.execute_input": "2023-10-09T19:05:09.908410Z",
     "iopub.status.busy": "2023-10-09T19:05:09.907644Z",
     "iopub.status.idle": "2023-10-09T19:05:11.672618Z",
     "shell.execute_reply": "2023-10-09T19:05:11.671026Z"
    },
    "papermill": {
     "duration": 1.792582,
     "end_time": "2023-10-09T19:05:11.675089",
     "exception": false,
     "start_time": "2023-10-09T19:05:09.882507",
     "status": "completed"
    },
    "tags": []
   },
   "outputs": [],
   "source": [
    "#Create object for hash encoder\n",
    "encoder=ce.HashingEncoder(cols=cats,n_components=6)\n",
    "data = encoder.fit_transform(data)\n",
    "train = data.iloc[:len(train), ]\n",
    "test = data.iloc[len(train):, ]"
   ]
  },
  {
   "cell_type": "markdown",
   "id": "b5180e66",
   "metadata": {
    "papermill": {
     "duration": 0.022048,
     "end_time": "2023-10-09T19:05:11.719909",
     "exception": false,
     "start_time": "2023-10-09T19:05:11.697861",
     "status": "completed"
    },
    "tags": []
   },
   "source": [
    "## LogisticRegression"
   ]
  },
  {
   "cell_type": "code",
   "execution_count": 52,
   "id": "ff178a1b",
   "metadata": {
    "execution": {
     "iopub.execute_input": "2023-10-09T19:05:11.767257Z",
     "iopub.status.busy": "2023-10-09T19:05:11.766818Z",
     "iopub.status.idle": "2023-10-09T19:05:12.951222Z",
     "shell.execute_reply": "2023-10-09T19:05:12.950144Z"
    },
    "papermill": {
     "duration": 1.212474,
     "end_time": "2023-10-09T19:05:12.954567",
     "exception": false,
     "start_time": "2023-10-09T19:05:11.742093",
     "status": "completed"
    },
    "tags": []
   },
   "outputs": [
    {
     "name": "stdout",
     "output_type": "stream",
     "text": [
      "fold: 0   - Starting ...\n",
      "train auc: 0.7543929058740558\n",
      "val auc: 0.7578584558823529\n",
      "fold: 1   - Starting ...\n",
      "train auc: 0.7593255763900766\n",
      "val auc: 0.7383192856050436\n",
      "fold: 2   - Starting ...\n",
      "train auc: 0.7513594999848231\n",
      "val auc: 0.7690154888564079\n",
      "fold: 3   - Starting ...\n",
      "train auc: 0.7560450855863974\n",
      "val auc: 0.7503604615390318\n",
      "fold: 4   - Starting ...\n",
      "train auc: 0.7544863839311073\n",
      "val auc: 0.7572854820146513\n",
      " Model auc: ------->  0.7545678347794975\n"
     ]
    }
   ],
   "source": [
    "score_auc = []\n",
    "\n",
    "oof_lr = np.zeros(len(train))\n",
    "pred_lr = np.zeros(len(test))\n",
    "\n",
    "folds = KFold(n_splits=5, shuffle=True, random_state=42)\n",
    "\n",
    "for fold_ , (train_ind, val_ind) in enumerate(folds.split(train, target)):\n",
    "    print('fold:', fold_, '  - Starting ...')\n",
    "    trn_data, val_data = train.iloc[train_ind], train.iloc[val_ind]\n",
    "    y_train, y_val = target.iloc[train_ind], target.iloc[val_ind]\n",
    "    \n",
    "    lr = LogisticRegression(C= 0.1,max_iter=200, random_state=2020, class_weight={0: 1, 1:3})\n",
    "    lr.fit(trn_data, y_train)\n",
    "    oof_lr[val_ind] = lr.predict_proba(val_data)[:, 1]\n",
    "    y = lr.predict_proba(trn_data)[:, 1]\n",
    "    print('train auc:' , roc_auc_score(y_train, y))\n",
    "    \n",
    "    print('val auc:' , roc_auc_score(y_val, oof_lr[val_ind]))\n",
    "      \n",
    "    score_auc.append(roc_auc_score(y_val, oof_lr[val_ind]))\n",
    "    \n",
    "                        \n",
    "    pred_lr += lr.predict_proba(test)[:, 1]/folds.n_splits\n",
    "    \n",
    "print(' Model auc: -------> ', np.mean(score_auc))"
   ]
  }
 ],
 "metadata": {
  "kernelspec": {
   "display_name": "Python 3 (ipykernel)",
   "language": "python",
   "name": "python3"
  },
  "language_info": {
   "codemirror_mode": {
    "name": "ipython",
    "version": 3
   },
   "file_extension": ".py",
   "mimetype": "text/x-python",
   "name": "python",
   "nbconvert_exporter": "python",
   "pygments_lexer": "ipython3",
   "version": "3.9.13"
  },
  "papermill": {
   "default_parameters": {},
   "duration": 24.540253,
   "end_time": "2023-10-09T19:05:14.177587",
   "environment_variables": {},
   "exception": null,
   "input_path": "__notebook__.ipynb",
   "output_path": "__notebook__.ipynb",
   "parameters": {},
   "start_time": "2023-10-09T19:04:49.637334",
   "version": "2.4.0"
  }
 },
 "nbformat": 4,
 "nbformat_minor": 5
}
